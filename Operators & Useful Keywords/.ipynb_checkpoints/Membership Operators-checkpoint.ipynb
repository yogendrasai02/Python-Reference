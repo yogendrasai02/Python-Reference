{
 "cells": [
  {
   "cell_type": "markdown",
   "id": "5ff8aa96",
   "metadata": {},
   "source": [
    "# Membership operators\n",
    "\n",
    "- `in` returns True if an item is present in an iterable.\n",
    "\n",
    "- `not in` returns True if an item is not present in an iterable.\n",
    "\n",
    "- With a dictionary, keys are checked."
   ]
  },
  {
   "cell_type": "code",
   "execution_count": 1,
   "id": "d7ad0bf8",
   "metadata": {},
   "outputs": [],
   "source": [
    "nums = [20, 40, 30, 10]"
   ]
  },
  {
   "cell_type": "code",
   "execution_count": 2,
   "id": "38308631",
   "metadata": {},
   "outputs": [
    {
     "data": {
      "text/plain": [
       "True"
      ]
     },
     "execution_count": 2,
     "metadata": {},
     "output_type": "execute_result"
    }
   ],
   "source": [
    "10 in nums"
   ]
  },
  {
   "cell_type": "code",
   "execution_count": 3,
   "id": "cfa8ef5c",
   "metadata": {},
   "outputs": [
    {
     "data": {
      "text/plain": [
       "False"
      ]
     },
     "execution_count": 3,
     "metadata": {},
     "output_type": "execute_result"
    }
   ],
   "source": [
    "10 not in nums"
   ]
  },
  {
   "cell_type": "code",
   "execution_count": 4,
   "id": "8c4c1a10",
   "metadata": {},
   "outputs": [
    {
     "data": {
      "text/plain": [
       "False"
      ]
     },
     "execution_count": 4,
     "metadata": {},
     "output_type": "execute_result"
    }
   ],
   "source": [
    "25 in nums"
   ]
  },
  {
   "cell_type": "code",
   "execution_count": 5,
   "id": "6dcc8668",
   "metadata": {},
   "outputs": [
    {
     "data": {
      "text/plain": [
       "True"
      ]
     },
     "execution_count": 5,
     "metadata": {},
     "output_type": "execute_result"
    }
   ],
   "source": [
    "25 not in nums"
   ]
  },
  {
   "cell_type": "code",
   "execution_count": 6,
   "id": "2a46e86a",
   "metadata": {},
   "outputs": [],
   "source": [
    "d = { 'k1': 100, 'k2': 'socks' }"
   ]
  },
  {
   "cell_type": "code",
   "execution_count": 7,
   "id": "1e1a7f85",
   "metadata": {},
   "outputs": [
    {
     "data": {
      "text/plain": [
       "False"
      ]
     },
     "execution_count": 7,
     "metadata": {},
     "output_type": "execute_result"
    }
   ],
   "source": [
    "100 in d # checks"
   ]
  },
  {
   "cell_type": "code",
   "execution_count": 8,
   "id": "0a1331bf",
   "metadata": {},
   "outputs": [
    {
     "data": {
      "text/plain": [
       "True"
      ]
     },
     "execution_count": 8,
     "metadata": {},
     "output_type": "execute_result"
    }
   ],
   "source": [
    "'k1' in d"
   ]
  },
  {
   "cell_type": "code",
   "execution_count": 9,
   "id": "84126edd",
   "metadata": {},
   "outputs": [
    {
     "data": {
      "text/plain": [
       "True"
      ]
     },
     "execution_count": 9,
     "metadata": {},
     "output_type": "execute_result"
    }
   ],
   "source": [
    "100 in d.values()"
   ]
  },
  {
   "cell_type": "code",
   "execution_count": 10,
   "id": "3d7fe824",
   "metadata": {},
   "outputs": [
    {
     "data": {
      "text/plain": [
       "False"
      ]
     },
     "execution_count": 10,
     "metadata": {},
     "output_type": "execute_result"
    }
   ],
   "source": [
    "'k1' in d.values()"
   ]
  },
  {
   "cell_type": "code",
   "execution_count": 11,
   "id": "744537ac",
   "metadata": {},
   "outputs": [
    {
     "data": {
      "text/plain": [
       "True"
      ]
     },
     "execution_count": 11,
     "metadata": {},
     "output_type": "execute_result"
    }
   ],
   "source": [
    "'h' in 'hello'"
   ]
  },
  {
   "cell_type": "code",
   "execution_count": 12,
   "id": "a78446ce",
   "metadata": {},
   "outputs": [
    {
     "data": {
      "text/plain": [
       "True"
      ]
     },
     "execution_count": 12,
     "metadata": {},
     "output_type": "execute_result"
    }
   ],
   "source": [
    "'Hello' in 'Hello World'"
   ]
  },
  {
   "cell_type": "code",
   "execution_count": 13,
   "id": "97b0459e",
   "metadata": {},
   "outputs": [
    {
     "data": {
      "text/plain": [
       "False"
      ]
     },
     "execution_count": 13,
     "metadata": {},
     "output_type": "execute_result"
    }
   ],
   "source": [
    "'H' in 'hello'"
   ]
  }
 ],
 "metadata": {
  "kernelspec": {
   "display_name": "Python 3 (ipykernel)",
   "language": "python",
   "name": "python3"
  },
  "language_info": {
   "codemirror_mode": {
    "name": "ipython",
    "version": 3
   },
   "file_extension": ".py",
   "mimetype": "text/x-python",
   "name": "python",
   "nbconvert_exporter": "python",
   "pygments_lexer": "ipython3",
   "version": "3.9.12"
  }
 },
 "nbformat": 4,
 "nbformat_minor": 5
}
