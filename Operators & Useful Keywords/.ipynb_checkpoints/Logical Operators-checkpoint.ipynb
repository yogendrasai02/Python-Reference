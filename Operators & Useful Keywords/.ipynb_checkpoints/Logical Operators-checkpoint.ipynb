{
 "cells": [
  {
   "cell_type": "markdown",
   "id": "7771c3a6",
   "metadata": {},
   "source": [
    "# Logical Operators\n",
    "\n",
    "- `and` keyword|operator performs **Logical AND** operation.\n",
    "\n",
    "- `or` keyword|operator performs **logical OR** operation.\n",
    "\n",
    "- `not` keyword|operator performs **logical NOT** operation.\n",
    "\n",
    "- Often, the operands themselves contain some sort of Comparision Operators."
   ]
  },
  {
   "cell_type": "markdown",
   "id": "58ad2343",
   "metadata": {},
   "source": [
    "### `and` keyword\n",
    "\n",
    "- The **logical AND** check ends when an operand evaluated to `False` for the first time and the further operands are not checked.\n"
   ]
  },
  {
   "cell_type": "code",
   "execution_count": 1,
   "id": "9bc263c1",
   "metadata": {},
   "outputs": [
    {
     "name": "stdout",
     "output_type": "stream",
     "text": [
      "True\n"
     ]
    }
   ],
   "source": [
    "isHungry = True\n",
    "hasFood = True\n",
    "eat = isHungry and hasFood\n",
    "print(eat)"
   ]
  },
  {
   "cell_type": "code",
   "execution_count": 2,
   "id": "d8c3cd77",
   "metadata": {},
   "outputs": [
    {
     "data": {
      "text/plain": [
       "True"
      ]
     },
     "execution_count": 2,
     "metadata": {},
     "output_type": "execute_result"
    }
   ],
   "source": [
    "(10 > 5) and (15 < 20)"
   ]
  },
  {
   "cell_type": "code",
   "execution_count": 3,
   "id": "0eaafbde",
   "metadata": {},
   "outputs": [
    {
     "data": {
      "text/plain": [
       "True"
      ]
     },
     "execution_count": 3,
     "metadata": {},
     "output_type": "execute_result"
    }
   ],
   "source": [
    "tokens = ['jason', '@', 'mail.com']\n",
    "\n",
    "(len(tokens) >= 2) and (tokens.count('@') == 1) and (tokens.index('@') == 1)"
   ]
  },
  {
   "cell_type": "code",
   "execution_count": 4,
   "id": "042d23c6",
   "metadata": {},
   "outputs": [
    {
     "data": {
      "text/plain": [
       "False"
      ]
     },
     "execution_count": 4,
     "metadata": {},
     "output_type": "execute_result"
    }
   ],
   "source": [
    "my_tup = (1, 2)\n",
    "\n",
    "(len(my_tup) >= 10) and (my_tup.index(3) == 2) # 2nd operand is not evaluated"
   ]
  },
  {
   "cell_type": "markdown",
   "id": "0a9a470e",
   "metadata": {},
   "source": [
    "### `or` keyword\n",
    "\n",
    "- The **logical OR** evaluates each operand."
   ]
  },
  {
   "cell_type": "code",
   "execution_count": 6,
   "id": "cf1c3285",
   "metadata": {},
   "outputs": [
    {
     "data": {
      "text/plain": [
       "True"
      ]
     },
     "execution_count": 6,
     "metadata": {},
     "output_type": "execute_result"
    }
   ],
   "source": [
    "(10 < 5) or (20 > 10)"
   ]
  },
  {
   "cell_type": "code",
   "execution_count": 5,
   "id": "f1cfc4e2",
   "metadata": {},
   "outputs": [
    {
     "data": {
      "text/plain": [
       "True"
      ]
     },
     "execution_count": 5,
     "metadata": {},
     "output_type": "execute_result"
    }
   ],
   "source": [
    "(10 < 5) or (100 == 90) or (10 > 2) or ('blanket' == 'pillow')"
   ]
  },
  {
   "cell_type": "code",
   "execution_count": 7,
   "id": "76a2d88f",
   "metadata": {},
   "outputs": [
    {
     "data": {
      "text/plain": [
       "False"
      ]
     },
     "execution_count": 7,
     "metadata": {},
     "output_type": "execute_result"
    }
   ],
   "source": [
    "(10 < 5) or (5 < 2)"
   ]
  },
  {
   "cell_type": "markdown",
   "id": "ef55b227",
   "metadata": {},
   "source": [
    "### `not` keyword\n",
    "\n",
    "- Negates a boolean expression"
   ]
  },
  {
   "cell_type": "code",
   "execution_count": 8,
   "id": "47b54a9a",
   "metadata": {},
   "outputs": [
    {
     "data": {
      "text/plain": [
       "False"
      ]
     },
     "execution_count": 8,
     "metadata": {},
     "output_type": "execute_result"
    }
   ],
   "source": [
    "not True"
   ]
  },
  {
   "cell_type": "code",
   "execution_count": 9,
   "id": "dce77ca2",
   "metadata": {},
   "outputs": [
    {
     "data": {
      "text/plain": [
       "True"
      ]
     },
     "execution_count": 9,
     "metadata": {},
     "output_type": "execute_result"
    }
   ],
   "source": [
    "not False"
   ]
  },
  {
   "cell_type": "code",
   "execution_count": 10,
   "id": "deff855f",
   "metadata": {},
   "outputs": [
    {
     "data": {
      "text/plain": [
       "True"
      ]
     },
     "execution_count": 10,
     "metadata": {},
     "output_type": "execute_result"
    }
   ],
   "source": [
    "isHungry = False\n",
    "\n",
    "not isHungry"
   ]
  },
  {
   "cell_type": "code",
   "execution_count": 11,
   "id": "47b71fbb",
   "metadata": {},
   "outputs": [
    {
     "data": {
      "text/plain": [
       "True"
      ]
     },
     "execution_count": 11,
     "metadata": {},
     "output_type": "execute_result"
    }
   ],
   "source": [
    "not (10 == 5)"
   ]
  },
  {
   "cell_type": "code",
   "execution_count": 12,
   "id": "106f48b4",
   "metadata": {},
   "outputs": [
    {
     "data": {
      "text/plain": [
       "False"
      ]
     },
     "execution_count": 12,
     "metadata": {},
     "output_type": "execute_result"
    }
   ],
   "source": [
    "not (10 != 5)"
   ]
  },
  {
   "cell_type": "code",
   "execution_count": 13,
   "id": "c020d9a9",
   "metadata": {},
   "outputs": [
    {
     "data": {
      "text/plain": [
       "False"
      ]
     },
     "execution_count": 13,
     "metadata": {},
     "output_type": "execute_result"
    }
   ],
   "source": [
    "not ((100 > 50) and ('blanket' != 'pillow'))"
   ]
  }
 ],
 "metadata": {
  "kernelspec": {
   "display_name": "Python 3 (ipykernel)",
   "language": "python",
   "name": "python3"
  },
  "language_info": {
   "codemirror_mode": {
    "name": "ipython",
    "version": 3
   },
   "file_extension": ".py",
   "mimetype": "text/x-python",
   "name": "python",
   "nbconvert_exporter": "python",
   "pygments_lexer": "ipython3",
   "version": "3.9.12"
  }
 },
 "nbformat": 4,
 "nbformat_minor": 5
}
