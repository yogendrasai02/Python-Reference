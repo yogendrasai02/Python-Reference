{
 "cells": [
  {
   "cell_type": "markdown",
   "id": "2ee16b8b",
   "metadata": {},
   "source": [
    "# NumPy Introduction\n",
    "\n",
    "- **NumPy** stands for **Numerical Python**, it is a widely used scientific computing package in Python.\n",
    "\n",
    "- It provides a multidimensional array object, called `ndarray`, and various functions|methods for performing various computations such as linear algebra, statistics, etc.\n",
    "\n",
    "- NumPy package is used in the backend for many other Python packages such as pandas, matplotlib, scikit-learn, etc.\n",
    "\n",
    "- To get started, install the NumPy package: `pip install numpy` in the command line.\n",
    "\n",
    "- In your code, import NumPy as: \n",
    "\n",
    "```python\n",
    "import numpy as np\n",
    "```\n",
    "\n",
    "- Here's the link to the documentation: [NumPy documentation](https://numpy.org/doc/stable/index.html)"
   ]
  },
  {
   "cell_type": "code",
   "execution_count": 2,
   "id": "64c06c0a",
   "metadata": {},
   "outputs": [],
   "source": [
    "import numpy as np"
   ]
  },
  {
   "cell_type": "markdown",
   "id": "130e4f96",
   "metadata": {},
   "source": [
    "## NumPy's `ndarray`\n",
    "\n",
    "- NumPy provides a `ndarray` object, which is a multidimensional array, storing homogeneous data.\n",
    "\n",
    "- A lot of operations are performed at compile-time, for better performance.\n",
    "\n",
    "- But still, why NumPy when we already have `lists` in Python?\n",
    "\n",
    "### Why NumPy when we have lists?\n",
    "\n",
    "- Lists are slow, NumPy arrays are fast. But why?\n",
    "\n",
    "- One reason is that NumPy arrays store homogeneous data, which is why it is faster.\n",
    "    \n",
    "- Consider storing an element `5` in a list. It uses the Python's inbuilt `int` object which stores the following information about the item: size, reference_count, object_type, object_value.\n",
    "\n",
    "    - If we are using a `32` bit notation, object value is of size `8B`, object type is of size `8B`, reference_count is of size `8B`, and size might be of `4B`.\n",
    "\n",
    "- Storing the same `5` in a NumPy array, using `int32` datatype by default, takes 4B space.\n",
    "\n",
    "- Since NumPy uses less amount of memory, computations are faster.\n",
    "\n",
    "- One more noteworthy point is that the lists can be dynamic whereas NumPy arrays have size fixed at the time of creation.\n",
    "    \n",
    "    - NumPy arrays store elements in **contiguous** memory locations, so accessing them is easier and faster.\n",
    "    \n",
    "    - Lists store items in non-continuous memeory locations, and hence the actual list contains the pointer to a memory location. So, data access is comparitively slower.\n",
    "    \n",
    "- Simultaneous computations are possible with NumPy arrays, because they support **SIMD Vector Processing**.\n",
    "\n",
    "- NumPy also uses the **cache** effectively, for better performance.\n",
    "\n",
    "- Also, accomplishing many mathematical operations is more easy in NumPy than doing so using lists."
   ]
  },
  {
   "cell_type": "markdown",
   "id": "92651c1a",
   "metadata": {},
   "source": [
    "## NumPy arrays\n",
    "\n",
    "- An array is a central data structure of the NumPy library. \n",
    "\n",
    "- It has a grid of elements that can be indexed in various ways. \n",
    "\n",
    "- The elements are all of the same type, referred to as the array `dtype`.\n",
    "\n",
    "- To construct an array, we make use of `np.array()` function. One way to construct an array is using a list."
   ]
  },
  {
   "cell_type": "code",
   "execution_count": 3,
   "id": "cc204f9f",
   "metadata": {},
   "outputs": [
    {
     "name": "stdout",
     "output_type": "stream",
     "text": [
      "[10 20 30]\n",
      "<class 'numpy.ndarray'>\n"
     ]
    }
   ],
   "source": [
    "# Create a simple NumPy array\n",
    "a = np.array([10, 20, 30])\n",
    "print(a)\n",
    "print(type(a))"
   ]
  },
  {
   "attachments": {
    "image.png": {
     "image/png": "[encoded data removed]"
    }
   },
   "cell_type": "markdown",
   "id": "ccd96fa9",
   "metadata": {},
   "source": [
    "- In general, we refer to the array as an **`ndarray`** or an N-dimensional array.\n",
    "\n",
    "- In NumPy, the dimensions are called **axes**.\n",
    "\n",
    "- The number of items across each dimension is specified by the **`shape`**.\n",
    "\n",
    "    - The `shape` is a tuple of `N` positive integers, where each integer is the size of the array across each dimension.\n",
    "    \n",
    "- The number of dimensions is defined by **`rank`** of the array.\n",
    "    \n",
    "- The type of elements are specified by **`dtype`**.\n",
    "    \n",
    "- Consider this 2D array:\n",
    "\n",
    "![image.png](attachment:image.png)\n",
    "\n",
    "- 1. It has 2 axes. Hence, it's `rank` is 2.\n",
    "\n",
    "  2. It's `shape` is `(3, 4)` &rarr; 3 is the size along one axis(rows), and 4 along another axis (columns).\n",
    "  \n",
    "  3. It's `dtype` is `int32` which is a 32 bit integer. This is the default.\n",
    "\n",
    "- The following properties are helpful:\n",
    "\n",
    "    - `ndarray.shape` returns the shape of the array.\n",
    "    \n",
    "    - `ndarray.ndim` returns the rank of the array.\n",
    "    \n",
    "    - `ndarray.dtype` returns the datatype of the elements of the array.\n",
    "    \n",
    "    - `ndarray.size` returns the number of elements in the array."
   ]
  },
  {
   "cell_type": "code",
   "execution_count": 13,
   "id": "1380f012",
   "metadata": {},
   "outputs": [],
   "source": [
    "# Utility function\n",
    "def print_nd_array_info(arr):\n",
    "    print(a)\n",
    "    print('Rank: ', arr.ndim)\n",
    "    print('Shape:', arr.shape)\n",
    "    print('Dtype:', arr.dtype)\n",
    "    print('Size: ', arr.size)"
   ]
  },
  {
   "cell_type": "code",
   "execution_count": 14,
   "id": "bd9052f1",
   "metadata": {},
   "outputs": [
    {
     "name": "stdout",
     "output_type": "stream",
     "text": [
      "[1 2 3]\n",
      "Rank:  1\n",
      "Shape: (3,)\n",
      "Dtype: int32\n",
      "Size:  3\n"
     ]
    }
   ],
   "source": [
    "# Creating a 1D array\n",
    "a = np.array([1, 2, 3])\n",
    "print_nd_array_info(a)"
   ]
  },
  {
   "cell_type": "code",
   "execution_count": 15,
   "id": "aa236c0d",
   "metadata": {},
   "outputs": [
    {
     "name": "stdout",
     "output_type": "stream",
     "text": [
      "[1 2 3]\n",
      "Rank:  2\n",
      "Shape: (2, 3)\n",
      "Dtype: int32\n",
      "Size:  6\n"
     ]
    }
   ],
   "source": [
    "# Creating a 2D array\n",
    "b = np.array([\n",
    "    [1, 2, 3],\n",
    "    [4, 5, 6]\n",
    "])\n",
    "print_nd_array_info(b)"
   ]
  },
  {
   "cell_type": "code",
   "execution_count": 16,
   "id": "44435a04",
   "metadata": {},
   "outputs": [
    {
     "name": "stdout",
     "output_type": "stream",
     "text": [
      "[1 2 3]\n",
      "Rank:  3\n",
      "Shape: (3, 2, 2)\n",
      "Dtype: int32\n",
      "Size:  12\n"
     ]
    }
   ],
   "source": [
    "# Creating a 3D array\n",
    "c = np.array([\n",
    "    [\n",
    "        [1, 2],\n",
    "        [3, 4]\n",
    "    ],\n",
    "    [\n",
    "        [5, 6],\n",
    "        [7, 8]\n",
    "    ],\n",
    "    [\n",
    "        [9, 10],\n",
    "        [11, 12]\n",
    "    ]\n",
    "])\n",
    "print_nd_array_info(c)"
   ]
  },
  {
   "cell_type": "markdown",
   "id": "d851d509",
   "metadata": {},
   "source": [
    "- We can specify the datatype explicitly, by using the `dtype` keyword argument."
   ]
  },
  {
   "cell_type": "code",
   "execution_count": 17,
   "id": "8d34c36a",
   "metadata": {},
   "outputs": [
    {
     "name": "stdout",
     "output_type": "stream",
     "text": [
      "[1 2 3]\n",
      "Rank:  1\n",
      "Shape: (3,)\n",
      "Dtype: int16\n",
      "Size:  3\n"
     ]
    }
   ],
   "source": [
    "# using the dtype keyword argument\n",
    "a = np.array([1, 2, 3], dtype='int16')\n",
    "print_nd_array_info(a)"
   ]
  },
  {
   "cell_type": "markdown",
   "id": "8ed93e17",
   "metadata": {},
   "source": [
    "## `np.zeros()`\n",
    "\n",
    "- **`np.zeros()`** returns an array filled with zeros\n",
    "\n",
    "- Note that by default, the datatype is inferred as `float64`"
   ]
  },
  {
   "cell_type": "code",
   "execution_count": 20,
   "id": "12b4af43",
   "metadata": {},
   "outputs": [
    {
     "name": "stdout",
     "output_type": "stream",
     "text": [
      "[0. 0. 0. 0. 0.]\n",
      "Rank:  1\n",
      "Shape: (5,)\n",
      "Dtype: float64\n",
      "Size:  5\n"
     ]
    }
   ],
   "source": [
    "# Get a 1D array of all zeros\n",
    "a = np.zeros(5)\n",
    "print_nd_array_info(a)"
   ]
  },
  {
   "cell_type": "code",
   "execution_count": 21,
   "id": "0d1f9f58",
   "metadata": {},
   "outputs": [
    {
     "name": "stdout",
     "output_type": "stream",
     "text": [
      "[[0 0 0]\n",
      " [0 0 0]]\n",
      "Rank:  2\n",
      "Shape: (2, 3)\n",
      "Dtype: int32\n",
      "Size:  6\n"
     ]
    }
   ],
   "source": [
    "# 2D array of all zeros\n",
    "a = np.zeros((2, 3), dtype='int32')\n",
    "print_nd_array_info(a)"
   ]
  },
  {
   "cell_type": "markdown",
   "id": "4e4f4684",
   "metadata": {},
   "source": [
    "## `np.ones()`\n",
    "\n",
    "- **`np.ones()`** returns an array filled with ones.\n",
    "\n",
    "- Note that by default, the datatype is inferred as `float64`"
   ]
  },
  {
   "cell_type": "code",
   "execution_count": 22,
   "id": "4dadd7ad",
   "metadata": {},
   "outputs": [
    {
     "name": "stdout",
     "output_type": "stream",
     "text": [
      "[1. 1. 1. 1. 1.]\n",
      "Rank:  1\n",
      "Shape: (5,)\n",
      "Dtype: float64\n",
      "Size:  5\n"
     ]
    }
   ],
   "source": [
    "# Get a 1D array of all ones\n",
    "a = np.ones(5)\n",
    "print_nd_array_info(a)"
   ]
  },
  {
   "cell_type": "code",
   "execution_count": 23,
   "id": "90254ccf",
   "metadata": {
    "scrolled": true
   },
   "outputs": [
    {
     "name": "stdout",
     "output_type": "stream",
     "text": [
      "[[1 1 1]\n",
      " [1 1 1]]\n",
      "Rank:  2\n",
      "Shape: (2, 3)\n",
      "Dtype: int32\n",
      "Size:  6\n"
     ]
    }
   ],
   "source": [
    "# 2D array of all ones\n",
    "a = np.ones((2, 3), dtype='int32')\n",
    "print_nd_array_info(a)"
   ]
  },
  {
   "cell_type": "markdown",
   "id": "f13edc65",
   "metadata": {},
   "source": [
    "## `np.full()`\n",
    "\n",
    "- **`np.full()`** lets you fill an entire array with a given value.\n",
    "\n",
    "- Syntax is `np.full(shape_of_array, value)`"
   ]
  },
  {
   "cell_type": "code",
   "execution_count": 42,
   "id": "826cbee6",
   "metadata": {},
   "outputs": [
    {
     "name": "stdout",
     "output_type": "stream",
     "text": [
      "[[100 100 100]\n",
      " [100 100 100]\n",
      " [100 100 100]\n",
      " [100 100 100]]\n",
      "Rank:  2\n",
      "Shape: (4, 3)\n",
      "Dtype: int32\n",
      "Size:  12\n"
     ]
    }
   ],
   "source": [
    "a = np.full((4, 3), 100)\n",
    "print_nd_array_info(a)"
   ]
  },
  {
   "cell_type": "markdown",
   "id": "174a8587",
   "metadata": {},
   "source": [
    "## `np.arange()`\n",
    "\n",
    "- Returns an array with evenly spaced values in a given range\n",
    "\n",
    "- Syntax is: `np.arange(start, stop, step)`\n",
    "\n",
    "- The output excludes `stop`.\n",
    "\n",
    "- It can be used like:\n",
    "\n",
    "    - `np.arange(stop)` where `start` is taken as `0` and `step` is taken as `1`.\n",
    "    \n",
    "    - `np.arange(start, stop)` where `step` is taken as `1`.\n",
    "    \n",
    "    - `np.arange(start, stop, end)`\n",
    "    \n",
    "> **WARNING**\n",
    ">\n",
    "> The length of the output might not be numerically stable.\n",
    ">\n",
    "> The actual `step` is actually `dtype(start + step) - dtype(start)`, which might lead to **precision loss** in some cases.\n",
    ">\n",
    "> You might actually want to use `np.linspace()` in most cases."
   ]
  },
  {
   "cell_type": "code",
   "execution_count": 25,
   "id": "8f6c3238",
   "metadata": {
    "scrolled": true
   },
   "outputs": [
    {
     "name": "stdout",
     "output_type": "stream",
     "text": [
      "[ 0  1  2  3  4  5  6  7  8  9 10 11 12 13 14]\n",
      "Rank:  1\n",
      "Shape: (15,)\n",
      "Dtype: int32\n",
      "Size:  15\n",
      "[ 2  3  4  5  6  7  8  9 10 11 12 13 14]\n",
      "[ 2  5  8 11 14]\n"
     ]
    }
   ],
   "source": [
    "# examples of np.arange\n",
    "a = np.arange(15)\n",
    "b = np.arange(2, 15)\n",
    "c = np.arange(2, 15, 3)\n",
    "print_nd_array_info(a)\n",
    "print(b)\n",
    "print(c)"
   ]
  },
  {
   "cell_type": "markdown",
   "id": "e3cb1e5c",
   "metadata": {},
   "source": [
    "## `np.linspace()`\n",
    "\n",
    "- Returns an array of evenly space number over a given interval.\n",
    "\n",
    "- Syntax is `np.linspace(start, stop, num, endpoint=True)`\n",
    "\n",
    "- Returns `num` number of evenly spaced spaced over the given interval, with or without excluding the `stop`, depending on the value of `endpoint`.\n",
    "\n",
    "- By default, it includes the `stop` in the result."
   ]
  },
  {
   "cell_type": "code",
   "execution_count": 27,
   "id": "293e480a",
   "metadata": {},
   "outputs": [
    {
     "name": "stdout",
     "output_type": "stream",
     "text": [
      "[ 2.   8.5 15. ]\n",
      "Rank:  1\n",
      "Shape: (3,)\n",
      "Dtype: float64\n",
      "Size:  3\n",
      "[-10.  -6.  -2.   2.   6.]\n"
     ]
    }
   ],
   "source": [
    "# examples of np.linspace()\n",
    "a = np.linspace(2, 15, num=3)\n",
    "b = np.linspace(-10, 10, num = 5, endpoint=False)\n",
    "print_nd_array_info(a)\n",
    "print(b)"
   ]
  },
  {
   "attachments": {
    "image.png": {
     "image/png": "[encoded data removed]"
    }
   },
   "cell_type": "markdown",
   "id": "9b676cb1",
   "metadata": {},
   "source": [
    "## Indexing & Slicing\n",
    "\n",
    "- We use a syntax similar to the syntax used in lists.\n",
    "\n",
    "- For the below demonstrations, lets use a 2D array:\n",
    "\n",
    "![image.png](attachment:image.png)\n",
    "\n"
   ]
  },
  {
   "cell_type": "markdown",
   "id": "ccfe3c7d",
   "metadata": {},
   "source": [
    "- The most commonly used syntax is to separate the index position across each dimension using a `,`.\n",
    "\n",
    "- For example:\n",
    "\n",
    "    - 1D array: `[x]`\n",
    "    \n",
    "    - 2D array: `[x, y]`\n",
    "    \n",
    "    - 3D array: `[x, y, z]`"
   ]
  },
  {
   "cell_type": "code",
   "execution_count": 34,
   "id": "1acc212c",
   "metadata": {},
   "outputs": [
    {
     "name": "stdout",
     "output_type": "stream",
     "text": [
      "[[ 1  2  3  4]\n",
      " [ 5  6  7  8]\n",
      " [ 9 10 11 12]]\n"
     ]
    }
   ],
   "source": [
    "a = np.linspace(1, 12, num=12, dtype='int32').reshape((3, 4))\n",
    "print(a)"
   ]
  },
  {
   "cell_type": "code",
   "execution_count": 35,
   "id": "de622bd7",
   "metadata": {},
   "outputs": [
    {
     "name": "stdout",
     "output_type": "stream",
     "text": [
      "1 12\n",
      "[3 4 5 6 7 8 9]\n",
      "[3 5 7 9]\n",
      "[12 11 10  9  8  7  6  5  4  3  2  1]\n"
     ]
    }
   ],
   "source": [
    "# indexing on a 1D array\n",
    "b = a.reshape(12)\n",
    "print(b[0], b[-1])\n",
    "print(b[2:9])\n",
    "print(b[2:9:2])\n",
    "print(b[::-1])"
   ]
  },
  {
   "cell_type": "code",
   "execution_count": 36,
   "id": "bfe1708d",
   "metadata": {},
   "outputs": [
    {
     "data": {
      "text/plain": [
       "array([1, 2, 3, 4])"
      ]
     },
     "execution_count": 36,
     "metadata": {},
     "output_type": "execute_result"
    }
   ],
   "source": [
    "# Now lets move to the above example\n",
    "# grabbing the first row\n",
    "a[0, :]"
   ]
  },
  {
   "cell_type": "code",
   "execution_count": 37,
   "id": "a0e0f8b0",
   "metadata": {},
   "outputs": [
    {
     "data": {
      "text/plain": [
       "array([ 9, 10, 11, 12])"
      ]
     },
     "execution_count": 37,
     "metadata": {},
     "output_type": "execute_result"
    }
   ],
   "source": [
    "# grabbing the last row\n",
    "a[-1, :]"
   ]
  },
  {
   "cell_type": "code",
   "execution_count": 38,
   "id": "b68f78a7",
   "metadata": {},
   "outputs": [
    {
     "data": {
      "text/plain": [
       "array([ 2,  6, 10])"
      ]
     },
     "execution_count": 38,
     "metadata": {},
     "output_type": "execute_result"
    }
   ],
   "source": [
    "# grabbing the 2nd column\n",
    "a[:, 1]"
   ]
  },
  {
   "cell_type": "code",
   "execution_count": 39,
   "id": "b897f6a2",
   "metadata": {},
   "outputs": [
    {
     "data": {
      "text/plain": [
       "9"
      ]
     },
     "execution_count": 39,
     "metadata": {},
     "output_type": "execute_result"
    }
   ],
   "source": [
    "# grabbing the cell with vaue 9\n",
    "a[2, 0]"
   ]
  },
  {
   "cell_type": "code",
   "execution_count": 40,
   "id": "bb88c56d",
   "metadata": {},
   "outputs": [
    {
     "data": {
      "text/plain": [
       "array([[ 2,  3],\n",
       "       [ 6,  7],\n",
       "       [10, 11]])"
      ]
     },
     "execution_count": 40,
     "metadata": {},
     "output_type": "execute_result"
    }
   ],
   "source": [
    "# slicing the middle 2 columns\n",
    "a[:, 1:-1]"
   ]
  },
  {
   "cell_type": "code",
   "execution_count": 41,
   "id": "79a880d3",
   "metadata": {},
   "outputs": [
    {
     "data": {
      "text/plain": [
       "array([[6, 7]])"
      ]
     },
     "execution_count": 41,
     "metadata": {},
     "output_type": "execute_result"
    }
   ],
   "source": [
    "# slicing the middle row, middle 2 columns\n",
    "a[1:-1, 1:-1]"
   ]
  },
  {
   "cell_type": "markdown",
   "id": "215cb713",
   "metadata": {},
   "source": [
    "- There are some advanced indexing methods, please refer to [this article](https://www.tutorialspoint.com/numpy/numpy_advanced_indexing.htm) and [the docs](https://numpy.org/doc/stable/user/quickstart.html#advanced-indexing-and-index-tricks)."
   ]
  },
  {
   "cell_type": "markdown",
   "id": "770c186e",
   "metadata": {},
   "source": [
    "## Sorting a NumPy array\n",
    "\n",
    "- One common method used is the **`np.sort()`** method, which returns a sorted copy of the array.\n",
    "\n",
    "- Syntax is `np.sort(array_variable, axis=-1, kind=None, order=None)`\n",
    "\n",
    "- By default, sorting is done with the last axis (`-1`).\n",
    "\n",
    "    - If you give axis as `None`, the array will be flattened before sorting.\n",
    "    \n",
    "- `kind` argument specifies the algorithm to use.\n",
    "\n",
    "- `order` argument specifies the field to compare incase of structured arrays.\n",
    "\n",
    "- Refer to [the documentation](https://numpy.org/doc/stable/reference/generated/numpy.sort.html#numpy.sort) for more details."
   ]
  },
  {
   "cell_type": "code",
   "execution_count": 44,
   "id": "5c9fcb2e",
   "metadata": {},
   "outputs": [
    {
     "name": "stdout",
     "output_type": "stream",
     "text": [
      "[ 100   70   99  123 6181  123]\n",
      "[  70   99  100  123  123 6181]\n"
     ]
    }
   ],
   "source": [
    "# sorting a 1D array\n",
    "a = np.array([100, 70, 99, 123, 6181, 123])\n",
    "b = np.sort(a)\n",
    "print(a)\n",
    "print(b)"
   ]
  },
  {
   "cell_type": "code",
   "execution_count": 45,
   "id": "28c47754",
   "metadata": {},
   "outputs": [
    {
     "name": "stdout",
     "output_type": "stream",
     "text": [
      "[[3 2 1]\n",
      " [9 7 8]\n",
      " [5 6 4]]\n"
     ]
    }
   ],
   "source": [
    "# sorting a 2D array\n",
    "a = np.array([\n",
    "    [3, 2, 1],\n",
    "    [9, 7, 8],\n",
    "    [5, 6, 4]\n",
    "])\n",
    "print(a)"
   ]
  },
  {
   "cell_type": "code",
   "execution_count": 46,
   "id": "9ee27230",
   "metadata": {},
   "outputs": [
    {
     "name": "stdout",
     "output_type": "stream",
     "text": [
      "[1 2 3 4 5 6 7 8 9]\n"
     ]
    }
   ],
   "source": [
    "# axis=None -> flattens the array before sorting\n",
    "b = np.sort(a, axis=None)\n",
    "print(b)"
   ]
  },
  {
   "cell_type": "code",
   "execution_count": 47,
   "id": "60c48fb8",
   "metadata": {},
   "outputs": [
    {
     "name": "stdout",
     "output_type": "stream",
     "text": [
      "[[1 2 3]\n",
      " [7 8 9]\n",
      " [4 5 6]]\n"
     ]
    }
   ],
   "source": [
    "# by default, sorting is on last axis\n",
    "# in case of 2D array, last axis is the 'row'\n",
    "b = np.sort(a)\n",
    "print(b)"
   ]
  },
  {
   "cell_type": "code",
   "execution_count": 49,
   "id": "d00786f8",
   "metadata": {},
   "outputs": [
    {
     "name": "stdout",
     "output_type": "stream",
     "text": [
      "[[3 2 1]\n",
      " [5 6 4]\n",
      " [9 7 8]]\n"
     ]
    }
   ],
   "source": [
    "# custom axis\n",
    "# in this case, column wise -> axis '0'\n",
    "b = np.sort(a, axis=0)\n",
    "print(b)"
   ]
  },
  {
   "cell_type": "code",
   "execution_count": 60,
   "id": "2a9595cb",
   "metadata": {},
   "outputs": [
    {
     "name": "stdout",
     "output_type": "stream",
     "text": [
      "[(b'Hyderabad', 100, 200.) (b'Mumbai', 150, 150.) (b'Delhi',  90, 175.)]\n",
      "Rank:  1\n",
      "Shape: (3,)\n",
      "Dtype: [('city', 'S20'), ('temparature', '<i4'), ('rainfall', '<f8')]\n",
      "Size:  3\n"
     ]
    }
   ],
   "source": [
    "# creating a structured array\n",
    "# define the values\n",
    "data = [\n",
    "    ('Hyderabad', 100, 200),\n",
    "    ('Mumbai', 150, 150),\n",
    "    ('Delhi', 90, 175)\n",
    "]\n",
    "# define the datatype\n",
    "dtype_ = [('city', 'S20'), ('temparature', 'int32'), ('rainfall', 'float64')]\n",
    "a = np.array(data, dtype=dtype_)\n",
    "print_nd_array_info(a)"
   ]
  },
  {
   "cell_type": "code",
   "execution_count": 61,
   "id": "060c4ad1",
   "metadata": {},
   "outputs": [
    {
     "name": "stdout",
     "output_type": "stream",
     "text": [
      "[(b'Delhi',  90, 175.) (b'Hyderabad', 100, 200.) (b'Mumbai', 150, 150.)]\n"
     ]
    }
   ],
   "source": [
    "# default sorting -> along column city\n",
    "b = np.sort(a)\n",
    "print(b)"
   ]
  },
  {
   "cell_type": "code",
   "execution_count": 63,
   "id": "aff154ed",
   "metadata": {},
   "outputs": [
    {
     "name": "stdout",
     "output_type": "stream",
     "text": [
      "[(b'Mumbai', 150, 150.) (b'Delhi',  90, 175.) (b'Hyderabad', 100, 200.)]\n"
     ]
    }
   ],
   "source": [
    "# sorting based on rainfall\n",
    "b = np.sort(a, order='rainfall')\n",
    "print(b)"
   ]
  },
  {
   "cell_type": "code",
   "execution_count": 62,
   "id": "5b739061",
   "metadata": {},
   "outputs": [
    {
     "name": "stdout",
     "output_type": "stream",
     "text": [
      "[(b'Delhi',  90, 175.) (b'Hyderabad', 100, 200.) (b'Mumbai', 150, 150.)]\n"
     ]
    }
   ],
   "source": [
    "# sorting based on temparature\n",
    "b = np.sort(a, order='temparature')\n",
    "print(b)"
   ]
  },
  {
   "cell_type": "markdown",
   "id": "eb1b8a38",
   "metadata": {},
   "source": [
    "## Reshaping an array - `np.reshape()` and `arr.reshape()`\n",
    "\n",
    "- These methods allow you to reshape an existing array.\n",
    "\n",
    "- The reshaped array **must** have **same** number of elements as that of the original array.\n",
    "\n",
    "- **`arr.reshape(shape, order='C')`** returns an array containing the same data with a new shape.\n",
    "\n",
    "- Its same as **`np.reshape(arr, new_shape, order='C')`**."
   ]
  },
  {
   "cell_type": "code",
   "execution_count": 64,
   "id": "d40b67d9",
   "metadata": {},
   "outputs": [
    {
     "name": "stdout",
     "output_type": "stream",
     "text": [
      "[ 1  2  3  4  5  6  7  8  9 10 11 12]\n"
     ]
    }
   ],
   "source": [
    "a = np.arange(1, 13)\n",
    "print(a)"
   ]
  },
  {
   "cell_type": "code",
   "execution_count": 65,
   "id": "3c666669",
   "metadata": {},
   "outputs": [
    {
     "name": "stdout",
     "output_type": "stream",
     "text": [
      "[[ 1  2  3]\n",
      " [ 4  5  6]\n",
      " [ 7  8  9]\n",
      " [10 11 12]]\n"
     ]
    }
   ],
   "source": [
    "b = np.reshape(a, (4, 3))\n",
    "print(b)"
   ]
  },
  {
   "cell_type": "code",
   "execution_count": 66,
   "id": "28fea17e",
   "metadata": {},
   "outputs": [
    {
     "name": "stdout",
     "output_type": "stream",
     "text": [
      "[[ 1  2  3  4]\n",
      " [ 5  6  7  8]\n",
      " [ 9 10 11 12]]\n"
     ]
    }
   ],
   "source": [
    "c = a.reshape((3, 4))\n",
    "print(c)"
   ]
  },
  {
   "cell_type": "code",
   "execution_count": 67,
   "id": "35e1ecfe",
   "metadata": {},
   "outputs": [
    {
     "name": "stdout",
     "output_type": "stream",
     "text": [
      "[[ 1  2  3  4  5  6]\n",
      " [ 7  8  9 10 11 12]]\n"
     ]
    }
   ],
   "source": [
    "d = np.reshape(c, (2, 6))\n",
    "print(d)"
   ]
  },
  {
   "cell_type": "markdown",
   "id": "f3039366",
   "metadata": {},
   "source": [
    "- **`linalg`** module: [docs](https://numpy.org/devdocs/reference/routines.linalg.html#module-numpy.linalg)\n",
    "\n",
    "- [freeCodeCamp's article](https://www.freecodecamp.org/news/the-ultimate-guide-to-the-numpy-scientific-computing-library-for-python/)"
   ]
  }
 ],
 "metadata": {
  "kernelspec": {
   "display_name": "Python 3 (ipykernel)",
   "language": "python",
   "name": "python3"
  },
  "language_info": {
   "codemirror_mode": {
    "name": "ipython",
    "version": 3
   },
   "file_extension": ".py",
   "mimetype": "text/x-python",
   "name": "python",
   "nbconvert_exporter": "python",
   "pygments_lexer": "ipython3",
   "version": "3.9.12"
  }
 },
 "nbformat": 4,
 "nbformat_minor": 5
}
