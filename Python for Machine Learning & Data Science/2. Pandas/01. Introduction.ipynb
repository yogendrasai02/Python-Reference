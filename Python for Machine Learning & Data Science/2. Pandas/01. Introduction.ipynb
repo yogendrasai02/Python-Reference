{
 "cells": [
  {
   "cell_type": "markdown",
   "id": "565e389e",
   "metadata": {},
   "source": [
    "# Introduction to Pandas\n",
    "\n",
    "- **Data Science**: Data Science/Data Analytics is the process of *analysing large* set of data points, to get *answers* on questions related to the dataset.\n",
    "\n",
    "- **Pandas** is a Python library which makes Data Science easy and effective.\n",
    "\n",
    "- These notebook are the reference notebook based on [CodeBasic's Python Pandas Tutorial Series on YouTube](https://www.youtube.com/playlist?list=PLeo1K3hjS3uuASpe-1LjfG5f14Bnozjwy).\n",
    "\n",
    "## Why Pandas?\n",
    "\n",
    "- As an example, consider the task of analysing weather data in a city.\n",
    "\n",
    "- You might be interested in questions such as:\n",
    "\n",
    "    - On which days did it rain?\n",
    "    \n",
    "    - What was the average rainfall?\n",
    "    \n",
    "    - What was the maximum temparature?\n",
    "\n",
    "- Data Analysis could be done with Excel as well.\n",
    "\n",
    "- The problem with Excel is that for complex usecases, it becomes harder to use.\n",
    "\n",
    "- We might also want to write a Python script ourself, to answer these questions. This serves the purpose but is time taking and requires us to write some considerable lines of code.\n",
    "\n",
    "- With Pandas, such tasks become easy, and can be done with a *very few* lines of code.\n",
    "\n",
    "- Another aspect on why we need Pandas is that real world data is **impure**.\n",
    "\n",
    "- For performing data analysis, data must be in a **clean & consistent state**.\n",
    "\n",
    "- The process of cleaning messy data is called **Data Munging/Data Wrangling**.\n",
    "    \n",
    "    - With Pandas, this becomes easy.\n",
    "    \n",
    "- This is just a very little overview on why we need Pandas. Pandas is **extremely powerful**."
   ]
  },
  {
   "cell_type": "markdown",
   "id": "5a394739",
   "metadata": {},
   "source": [
    "## Installing Pandas\n",
    "\n",
    "- `pip install pandas`\n",
    "\n",
    "- [Pandas Documentation](https://pandas.pydata.org/docs/)"
   ]
  },
  {
   "cell_type": "code",
   "execution_count": 1,
   "id": "4fcc5cfa",
   "metadata": {},
   "outputs": [],
   "source": [
    "# import pandas library\n",
    "import pandas as pd"
   ]
  }
 ],
 "metadata": {
  "kernelspec": {
   "display_name": "Python 3 (ipykernel)",
   "language": "python",
   "name": "python3"
  },
  "language_info": {
   "codemirror_mode": {
    "name": "ipython",
    "version": 3
   },
   "file_extension": ".py",
   "mimetype": "text/x-python",
   "name": "python",
   "nbconvert_exporter": "python",
   "pygments_lexer": "ipython3",
   "version": "3.9.12"
  }
 },
 "nbformat": 4,
 "nbformat_minor": 5
}
