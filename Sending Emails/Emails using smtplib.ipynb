{
 "cells": [
  {
   "cell_type": "markdown",
   "id": "671ba801",
   "metadata": {},
   "source": [
    "# Sending emails using `smtplib`\n",
    "\n",
    "- To send basic emails, we have the python `smtplib` package.\n",
    "\n",
    "- To add attachments, set HTML content and improve functionality, we have the `email` package.\n",
    "\n",
    "- Here is the reference tutorial for more information: [RealPython's article](https://realpython.com/python-send-email/).\n",
    "\n",
    "- In the following examples, we shall make use of Gmail's SMTP service. A similar service will be available for other email providers as well."
   ]
  },
  {
   "cell_type": "markdown",
   "id": "642431fd",
   "metadata": {},
   "source": [
    "## Setting up Gmail to send email programatically\n",
    "\n",
    "- The easiest way to do this is the following:\n",
    "\n",
    "    - Set an **App Password** for your gmail account.\n",
    "    \n",
    "    - This allows your code to send email through the gmail's SMTP service.\n",
    "    \n",
    "    - For each individual device, you have create an *app password*, and use that in your code.\n",
    "    \n",
    "- For [this article](https://support.google.com/accounts/answer/185833?hl=en) to setup an app password. (See the **Create & Use App Passwords** section) \n",
    "\n",
    "> **NOTE:** An app password will be shown only once, so, store it somewhere within your device.\n",
    "\n",
    "> **NOTE:** An app password will be unique to each device and generating it is a one-time setup for that device.\n",
    "\n",
    "- In this example, we are creating a `.env` file in the same directory as this notebook which will hold the following information:\n",
    "\n",
    "```\n",
    "EMAIL=\"SENDER_EMAIL_ADDRESS\"\n",
    "APP_PASSWORD=\"APP_PASSWORD_FOR_THE_DEVICE\"\n",
    "EMAIL_HOST=\"smtp.gmail.com\"\n",
    "EMAIL_PORT=\"465\"\n",
    "```\n",
    "\n",
    "- In your python code, we shall use this `.env` file to securely load the credentials and use these for sending emails."
   ]
  },
  {
   "cell_type": "markdown",
   "id": "a2d70668",
   "metadata": {},
   "source": [
    "## A side-note about security\n",
    "\n",
    "- When you send emails through Python, you should make sure that your SMTP connection is encrypted, so that your message and login credentials are not easily accessed by others. \n",
    "\n",
    "- **SSL** (Secure Sockets Layer) and **TLS** (Transport Layer Security) are two protocols that can be used to encrypt an SMTP connection.\n",
    "\n",
    "- A common way is to start an SMTP connection that is secured from the beginning using `SMTP_SSL()` method on the `smtplib` library. Doing this will allow Gmail to encrypt the things using **TLS**.\n",
    "\n",
    "- Now, a recommended step is to use `create_default_context()` from the `ssl` module. This will load the system’s trusted CA certificates, enable host name checking and certificate validation, and try to choose reasonably secure protocol and cipher settings.\n",
    "\n",
    "- `smtplib` is Python’s built-in module for sending emails to any Internet machine with an SMTP or ESMTP listener daemon.\n",
    "\n",
    "- Gmail requires us to use port `465` while using `SMTP_SSL()`."
   ]
  },
  {
   "cell_type": "markdown",
   "id": "5f942bfe",
   "metadata": {},
   "source": [
    "## Sending Plain-Text emails\n",
    "\n",
    "- The simplest form is to send plain-text emails.\n",
    "\n",
    "- We first create a `server` object using the `SMTP_SSL()` method, using the following syntax:<br> `server = SMTP_SSL(host, port, context = context_object_using_ssl_module)`.\n",
    "\n",
    "- This creates a secure TLS-encrypted connection.\n",
    "\n",
    "- Since we again have to manually close the connection, we use the following block of code:<br>\n",
    "\n",
    "```python\n",
    "with smtplib.SMTP_SSL(\"smtp.gmail.com\", port, context=context) as server:\n",
    "    # DO STUFF HERE\n",
    "```\n",
    "\n",
    "- After this, we first login with our email and password (app-password in our case) on the server object. We use the following syntax: `server.login(email_as_string, password_as_string)`\n",
    "\n",
    "- After this, we send the email using `server.sendmail()` method using the following syntax: `server.sendmail(sender_email,  receiver_email, message_as_string)`."
   ]
  },
  {
   "cell_type": "code",
   "execution_count": 3,
   "id": "4b64f2be",
   "metadata": {},
   "outputs": [
    {
     "name": "stdout",
     "output_type": "stream",
     "text": [
      "Email Sent!\n"
     ]
    }
   ],
   "source": [
    "# sending a plain-text email\n",
    "import smtplib, ssl\n",
    "import os\n",
    "from dotenv import load_dotenv\n",
    "\n",
    "# get env vars from .env file and read credentials\n",
    "load_dotenv()\n",
    "\n",
    "email, password = os.environ.get('EMAIL'), os.environ.get('APP_PASSWORD')\n",
    "host, port = os.environ.get('EMAIL_HOST'), os.environ.get('EMAIL_PORT')\n",
    "\n",
    "# create context\n",
    "context = ssl.create_default_context()\n",
    "\n",
    "with smtplib.SMTP_SSL(host, port, context=context) as server:\n",
    "    server.login(email, password)\n",
    "    message = 'Hello from Python'\n",
    "    try:\n",
    "        server.sendmail(email, 'yogendrasai02@gmail.com', message)\n",
    "        print('Email Sent!')\n",
    "    except Exception as err:\n",
    "        print('Error while sending email')\n",
    "        print(err)"
   ]
  },
  {
   "attachments": {
    "image.png": {
     "image/png": "[encoded data removed]"
    }
   },
   "cell_type": "markdown",
   "id": "0e1fea2d",
   "metadata": {},
   "source": [
    "- The above piece of code will send a plain-text email with no subject, just some text content.\n",
    "![image.png](attachment:image.png)"
   ]
  },
  {
   "cell_type": "markdown",
   "id": "a17c439b",
   "metadata": {},
   "source": [
    "- To send an email which has some subject, some attachments, maybe some HTML, we make use of the python `email` package. Follow the real python's article for doing so."
   ]
  },
  {
   "cell_type": "markdown",
   "id": "2ef9989d",
   "metadata": {},
   "source": [
    "## Using transactional email services & Fake Emails\n",
    "\n",
    "- You might want to use a service like [Mailtrap](https://mailtrap.io/), which traps all your sent email so that they donot reach the intended inbox. \n",
    "\n",
    "- You might want to use a service like [Sendinblue](https://www.sendinblue.com/). It has a free tier which can send upto 300 free emails per day.\n",
    "\n",
    "- You might want to use a fake email service, such as [temp-mail](https://temp-mail.org/en/).\n",
    "\n",
    "- For more such services, see the RealPython's article or search google :)"
   ]
  }
 ],
 "metadata": {
  "kernelspec": {
   "display_name": "Python 3 (ipykernel)",
   "language": "python",
   "name": "python3"
  },
  "language_info": {
   "codemirror_mode": {
    "name": "ipython",
    "version": 3
   },
   "file_extension": ".py",
   "mimetype": "text/x-python",
   "name": "python",
   "nbconvert_exporter": "python",
   "pygments_lexer": "ipython3",
   "version": "3.9.12"
  }
 },
 "nbformat": 4,
 "nbformat_minor": 5
}
