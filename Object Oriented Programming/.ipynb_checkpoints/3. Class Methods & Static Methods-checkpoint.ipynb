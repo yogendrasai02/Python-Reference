{
 "cells": [
  {
   "cell_type": "markdown",
   "id": "bf9ceb79",
   "metadata": {},
   "source": [
    "# The 3 types of methods\n",
    "\n",
    "- **Regular methods:** Take the `self` keyword as the first argument.\n",
    "\n",
    "- **Class methods:** Accept the class as the first argument. `cls` is the convention, which represents the current class.\n",
    "\n",
    "- **Static methods:** Do not take either the current instance or the current class as the first argument, but are linked to the class because of a logical connection.\n"
   ]
  },
  {
   "cell_type": "markdown",
   "id": "89382121",
   "metadata": {},
   "source": [
    "## Class methods\n",
    "\n",
    "- Take the class as the first argument. (`cls` is a convention)\n",
    "\n",
    "- Decorate the method with `@classmethod` decorator.\n",
    "\n",
    "- These methods are usually executed from the class. They can run from the instance as well, but better avoid using such code.\n",
    "\n",
    "- These methods are often used as **Alternative Constructors**.\n"
   ]
  },
  {
   "cell_type": "code",
   "execution_count": 8,
   "id": "f191b320",
   "metadata": {},
   "outputs": [],
   "source": [
    "# A simple but complete example\n",
    "\n",
    "class Employee():\n",
    "    # class-object attribute\n",
    "    raise_amount = 1.04\n",
    "\n",
    "    # general constructor\n",
    "    def __init__(self, firstname, lastname, pay):\n",
    "        self.firstname = firstname\n",
    "        self.lastname = lastname\n",
    "        self.pay = pay\n",
    "        \n",
    "    # a class method to update raise_amount\n",
    "    @classmethod\n",
    "    def update_raise_amount(cls, new_raise_amount):\n",
    "        # we can only access the class related functionality here\n",
    "        cls.raise_amount = new_raise_amount\n",
    "        \n",
    "    # a class method used as alternative constructor\n",
    "    @classmethod\n",
    "    def create_from_string(cls, string):\n",
    "        '''\n",
    "        Receives string like 'John-Doe-1000'\n",
    "        Which should return an object like Employee('John', 'Doe', 1000)\n",
    "        '''\n",
    "        firstname, lastname, pay = string.split('-')\n",
    "        return Employee(firstname, lastname, int(pay))\n",
    "    \n",
    "    def apply_raise(self):\n",
    "        self.pay = self.pay * Employee.raise_amount\n",
    "    \n",
    "    def info(self):\n",
    "        print(f'{self.firstname} {self.lastname} -> {self.pay}')"
   ]
  },
  {
   "cell_type": "code",
   "execution_count": 9,
   "id": "a6f9f8c3",
   "metadata": {},
   "outputs": [
    {
     "name": "stdout",
     "output_type": "stream",
     "text": [
      "John Doe -> 1000\n",
      "Raise Amount: 1.04\n",
      "Raise Amount: 1.1\n",
      "John Doe -> 1100.0\n"
     ]
    }
   ],
   "source": [
    "emp1 = Employee('John', 'Doe', 1000)\n",
    "emp1.info()\n",
    "\n",
    "print('Raise Amount:', Employee.raise_amount)\n",
    "Employee.update_raise_amount(1.10)\n",
    "emp1.apply_raise()\n",
    "print('Raise Amount:', Employee.raise_amount)\n",
    "\n",
    "emp1.info()"
   ]
  },
  {
   "cell_type": "code",
   "execution_count": 10,
   "id": "8310f3db",
   "metadata": {},
   "outputs": [
    {
     "name": "stdout",
     "output_type": "stream",
     "text": [
      "Sheldon Cooper -> 2000\n",
      "1.1\n"
     ]
    }
   ],
   "source": [
    "# Using class methods as alternative constructors\n",
    "string = 'Sheldon-Cooper-2000'\n",
    "emp2 = Employee.create_from_string(string)\n",
    "emp2.info()\n",
    "print(emp2.raise_amount)"
   ]
  },
  {
   "cell_type": "markdown",
   "id": "6754c389",
   "metadata": {},
   "source": [
    "## Static Methods\n",
    "\n",
    "- Static methods dont have access to the class variables or the instance variables but still, they are included in the class because they have some sort of logical connection to the class.\n",
    "\n",
    "- They behave much like normal functions.\n",
    "\n",
    "- These methods are decorated using `@staticmethod` decorator.\n",
    "\n",
    "- They can be accessed using the class.\n"
   ]
  },
  {
   "cell_type": "code",
   "execution_count": 11,
   "id": "222497a1",
   "metadata": {},
   "outputs": [],
   "source": [
    "# A simple static method to check if a given date is a workday or not\n",
    "\n",
    "class Emp():\n",
    "    # ...Code...\n",
    "    # ...Code...\n",
    "    \n",
    "    @staticmethod\n",
    "    def isWorkDay(day):\n",
    "        return not day.weekday() >= 5"
   ]
  },
  {
   "cell_type": "code",
   "execution_count": 15,
   "id": "29d16f49",
   "metadata": {},
   "outputs": [
    {
     "name": "stdout",
     "output_type": "stream",
     "text": [
      "True\n",
      "False\n"
     ]
    }
   ],
   "source": [
    "import datetime\n",
    "\n",
    "my_date = datetime.date(2022, 9, 14)\n",
    "\n",
    "print(Emp.isWorkDay(my_date))\n",
    "\n",
    "print(Emp.isWorkDay(datetime.date(2022, 9, 11)))"
   ]
  }
 ],
 "metadata": {
  "kernelspec": {
   "display_name": "Python 3 (ipykernel)",
   "language": "python",
   "name": "python3"
  },
  "language_info": {
   "codemirror_mode": {
    "name": "ipython",
    "version": 3
   },
   "file_extension": ".py",
   "mimetype": "text/x-python",
   "name": "python",
   "nbconvert_exporter": "python",
   "pygments_lexer": "ipython3",
   "version": "3.9.12"
  }
 },
 "nbformat": 4,
 "nbformat_minor": 5
}
