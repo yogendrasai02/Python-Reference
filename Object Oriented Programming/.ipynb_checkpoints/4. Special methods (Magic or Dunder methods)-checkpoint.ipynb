{
 "cells": [
  {
   "cell_type": "markdown",
   "id": "e34279f1",
   "metadata": {},
   "source": [
    "# Special Methods (Magic/Dunder methods)\n",
    "\n",
    "- These specials methods help us emulate some on python's inbuilt behaviour.\n",
    "\n",
    "- Also, these methods are the way to implement **Operator Overloading** in Python.\n",
    "\n",
    "- Before looking at Special Methods, lets see some default behaviour of Python.\n",
    "\n",
    "- Refer this [article](https://www.informit.com/articles/article.aspx?p=453682&seqNum=6) for more details."
   ]
  },
  {
   "cell_type": "code",
   "execution_count": 1,
   "id": "44589d98",
   "metadata": {},
   "outputs": [
    {
     "name": "stdout",
     "output_type": "stream",
     "text": [
      "30\n",
      "1020\n"
     ]
    }
   ],
   "source": [
    "# + Operator Overloading\n",
    "print(10 + 20)\n",
    "print('10' + '20')"
   ]
  },
  {
   "cell_type": "markdown",
   "id": "280a5ea8",
   "metadata": {},
   "source": [
    "- With strings, the `+` operator performs **String Concatenation**.\n",
    "\n",
    "- With numbers, the `+` operator performs **Addition**."
   ]
  },
  {
   "cell_type": "code",
   "execution_count": 3,
   "id": "70a1a91e",
   "metadata": {},
   "outputs": [
    {
     "name": "stdout",
     "output_type": "stream",
     "text": [
      "[10, 20, 30]\n",
      "<__main__.Simple object at 0x000001EF52618B50>\n"
     ]
    }
   ],
   "source": [
    "# Outputting an object\n",
    "\n",
    "lst = [10, 20, 30]\n",
    "print(lst)\n",
    "\n",
    "class Simple:\n",
    "    pass\n",
    "\n",
    "obj = Simple()\n",
    "print(obj)"
   ]
  },
  {
   "cell_type": "markdown",
   "id": "aeb38b32",
   "metadata": {},
   "source": [
    "- Note that when we try to output a list object, we get the actual elements surrounded by `[]` and separated by `,`.\n",
    "\n",
    "- But when we try to output other objects of other classes, we get a strange output which informs us the class name and the memory location where the object is stored.\n",
    "\n",
    "- We can change this behaviour using **Special Methods (Magic/Dunder methods)**.\n",
    "\n",
    "- These are called **Dunder methods** because they are surrounded by `__` hence they follow a syntax like `__methodName__()`.\n",
    "\n",
    "- One famous example of a dunder method is the `__init__()` method."
   ]
  },
  {
   "cell_type": "markdown",
   "id": "6e54fdf5",
   "metadata": {},
   "source": [
    "## `__str__()` special method\n",
    "\n",
    "- This method is called whenever we try to output anything in Python.\n",
    "\n",
    "- Whatever is returned by this method is outputted.\n",
    "\n",
    "- So, if we override this method for our custom classes, we can change how our object output looks like."
   ]
  },
  {
   "cell_type": "code",
   "execution_count": 5,
   "id": "427eaec2",
   "metadata": {},
   "outputs": [
    {
     "name": "stdout",
     "output_type": "stream",
     "text": [
      "10 + 20i\n"
     ]
    }
   ],
   "source": [
    "class Complex:\n",
    "    def __init__(self, a, b):\n",
    "        self.a = a\n",
    "        self.b = b\n",
    "        \n",
    "    # __str__() dunder method\n",
    "    def __str__(self):\n",
    "        return f'{self.a} + {self.b}i'\n",
    "    \n",
    "z1 = Complex(10, 20)\n",
    "print(z1)"
   ]
  },
  {
   "cell_type": "markdown",
   "id": "0b165924",
   "metadata": {},
   "source": [
    "## Overloading `+` operator using `__add__()` special method\n",
    "\n",
    "- Whenever `+` operator is being used, the `__add__()` is called.\n",
    "\n",
    "- Lets look at the below example."
   ]
  },
  {
   "cell_type": "code",
   "execution_count": 7,
   "id": "dc7b0ebc",
   "metadata": {},
   "outputs": [
    {
     "name": "stdout",
     "output_type": "stream",
     "text": [
      "40 + 60i\n"
     ]
    }
   ],
   "source": [
    "class Complex:\n",
    "    def __init__(self, a, b):\n",
    "        self.a = a\n",
    "        self.b = b\n",
    "        \n",
    "    # __str__() dunder method\n",
    "    def __str__(self):\n",
    "        return f'{self.a} + {self.b}i'\n",
    "    \n",
    "    # __add__() dunder method\n",
    "    def __add__(self, z2):\n",
    "        res_a = self.a + z2.a\n",
    "        res_b = self.b + z2.b\n",
    "        z3 = Complex(res_a, res_b)\n",
    "        return z3\n",
    "        \n",
    "z1 = Complex(10, 20)\n",
    "z2 = Complex(30, 40)\n",
    "\n",
    "print(z1 + z2)"
   ]
  }
 ],
 "metadata": {
  "kernelspec": {
   "display_name": "Python 3 (ipykernel)",
   "language": "python",
   "name": "python3"
  },
  "language_info": {
   "codemirror_mode": {
    "name": "ipython",
    "version": 3
   },
   "file_extension": ".py",
   "mimetype": "text/x-python",
   "name": "python",
   "nbconvert_exporter": "python",
   "pygments_lexer": "ipython3",
   "version": "3.9.12"
  }
 },
 "nbformat": 4,
 "nbformat_minor": 5
}
