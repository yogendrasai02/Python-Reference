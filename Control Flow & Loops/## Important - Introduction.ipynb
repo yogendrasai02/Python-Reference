{
 "cells": [
  {
   "cell_type": "markdown",
   "id": "7342fd5b",
   "metadata": {},
   "source": [
    "# Introduction to Python Statements\n",
    "\n",
    "- Python uses indentation to denote blocks of code and not `{}`.\n",
    "\n",
    "- For example, consider the following C/C++ code\n",
    "\n",
    "```cpp\n",
    "if(some_condition) {\n",
    "    ..code..\n",
    "} else {\n",
    "    ..code..\n",
    "}\n",
    "```\n",
    "\n",
    "The above piece of code is written in Python as:\n",
    "\n",
    "```python\n",
    "if some_condition:\n",
    "    ..code..\n",
    "else:\n",
    "    ..code..\n",
    "```\n",
    "\n",
    "- Note that `{}` are not used.\n",
    "\n",
    "- Instead, `:` denotes the start of a code block and `1 TAB Space` **indentation** denotes the code block.\n",
    "\n",
    "- This notation is important and is used in control flow, loops, functions, etc, in Python."
   ]
  }
 ],
 "metadata": {
  "kernelspec": {
   "display_name": "Python 3 (ipykernel)",
   "language": "python",
   "name": "python3"
  },
  "language_info": {
   "codemirror_mode": {
    "name": "ipython",
    "version": 3
   },
   "file_extension": ".py",
   "mimetype": "text/x-python",
   "name": "python",
   "nbconvert_exporter": "python",
   "pygments_lexer": "ipython3",
   "version": "3.9.12"
  }
 },
 "nbformat": 4,
 "nbformat_minor": 5
}
