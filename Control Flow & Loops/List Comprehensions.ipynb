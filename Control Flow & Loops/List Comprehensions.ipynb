{
 "cells": [
  {
   "cell_type": "markdown",
   "id": "6f2ba41e",
   "metadata": {},
   "source": [
    "# List Comprehensions\n",
    "\n",
    "- List Comprehensions provide a concise syntax to create lists, aiming at code readability.\n",
    "\n",
    "- It is often useful to apply some sort of operation on each element of an existing iterable but not modifying the iterable, or to pick a subsequence from an iterable based on a condition, etc.\n",
    "\n",
    "- Refer [the official documentation](https://docs.python.org/3/tutorial/datastructures.html#list-comprehensions) for more details.\n",
    "\n",
    "1. Basic syntax:\n",
    "\n",
    "```python\n",
    "new_list = [expression for item in iterable]\n",
    "```\n",
    "\n",
    "2. An `if` check can be included\n",
    "\n",
    "```python\n",
    "new_list = [expression for item in iterable if some_condition]\n",
    "```\n",
    "\n",
    "3. `if else` has a different syntax. Usually avoid such list comprehensions, **code readability** might not be good.\n",
    "\n",
    "```python\n",
    "new_list = [expression_1 if some_condition else expression_2 for item in iterable]\n",
    "```"
   ]
  },
  {
   "cell_type": "code",
   "execution_count": 1,
   "id": "9e11d816",
   "metadata": {},
   "outputs": [],
   "source": [
    "nums = [10, 20, 15, 5, 25, 30]"
   ]
  },
  {
   "cell_type": "code",
   "execution_count": 10,
   "id": "ebfdd559",
   "metadata": {},
   "outputs": [
    {
     "name": "stdout",
     "output_type": "stream",
     "text": [
      "[100, 400, 225, 25, 625, 900]\n"
     ]
    }
   ],
   "source": [
    "# square of each element of nums list\n",
    "nums_new = [num ** 2 for num in nums]\n",
    "print(nums_new)"
   ]
  },
  {
   "cell_type": "code",
   "execution_count": 5,
   "id": "6361aadc",
   "metadata": {},
   "outputs": [
    {
     "name": "stdout",
     "output_type": "stream",
     "text": [
      "[10, 20, 30]\n"
     ]
    }
   ],
   "source": [
    "# pick all even numbers from nums list\n",
    "nums_even = [num for num in nums if num % 2 == 0]\n",
    "print(nums_even)"
   ]
  },
  {
   "cell_type": "code",
   "execution_count": 6,
   "id": "e2571165",
   "metadata": {},
   "outputs": [
    {
     "name": "stdout",
     "output_type": "stream",
     "text": [
      "[10, 20, 16, 6, 26, 30]\n"
     ]
    }
   ],
   "source": [
    "# if a number is odd, add +1, else add +0 from nums list\n",
    "nums_new = [num + 1 if num % 2 == 1 else num for num in nums]\n",
    "print(nums_new)"
   ]
  },
  {
   "cell_type": "code",
   "execution_count": 9,
   "id": "9845782c",
   "metadata": {},
   "outputs": [
    {
     "name": "stdout",
     "output_type": "stream",
     "text": [
      "[(0, 10), (1, 20), (2, 15), (3, 5), (4, 25), (5, 30)]\n"
     ]
    }
   ],
   "source": [
    "# tuples -> need to be enclosed in ()\n",
    "el = [(ind, num) for ind, num in enumerate(nums)]\n",
    "print(el)"
   ]
  },
  {
   "cell_type": "markdown",
   "id": "c855a40c",
   "metadata": {},
   "source": [
    "- There can be more than one `for` loop &rarr; indicates nested for loop."
   ]
  },
  {
   "cell_type": "code",
   "execution_count": 11,
   "id": "b7b20cf1",
   "metadata": {},
   "outputs": [
    {
     "name": "stdout",
     "output_type": "stream",
     "text": [
      "[(10, 30), (10, 40), (20, 30), (20, 10), (20, 40), (40, 30), (40, 10)]\n"
     ]
    }
   ],
   "source": [
    "# consider the following code\n",
    "a = [10, 20, 40]\n",
    "b = [30, 10, 40]\n",
    "c = []\n",
    "for x in a:\n",
    "    for y in b:\n",
    "        if x != y:\n",
    "            c.append((x, y))\n",
    "print(c)"
   ]
  },
  {
   "cell_type": "code",
   "execution_count": 13,
   "id": "7127cad9",
   "metadata": {},
   "outputs": [
    {
     "name": "stdout",
     "output_type": "stream",
     "text": [
      "[(10, 30), (10, 40), (20, 30), (20, 10), (20, 40), (40, 30), (40, 10)]\n"
     ]
    }
   ],
   "source": [
    "# now use list comprehension for the above code\n",
    "c = [(x, y) for x in a for y in b if x != y]\n",
    "print(c)"
   ]
  },
  {
   "cell_type": "code",
   "execution_count": 18,
   "id": "d76c596d",
   "metadata": {},
   "outputs": [
    {
     "name": "stdout",
     "output_type": "stream",
     "text": [
      "True\n"
     ]
    }
   ],
   "source": [
    "a = [1, 2, 3]\n",
    "b = [4, 5, 6]\n",
    "c = [7, 8, 9]\n",
    "d = [(x, y, z) for x in a for y in b for z in c]\n",
    "e = []\n",
    "for x in a:\n",
    "    for y in b:\n",
    "        for z in c:\n",
    "            e.append((x, y, z))\n",
    "print(d == e)"
   ]
  },
  {
   "cell_type": "markdown",
   "id": "8aaeb266",
   "metadata": {},
   "source": [
    "## Nested List Comprehensions\n",
    "\n",
    "- The initial expression in a list comprehension can be any arbitrary expression, including another list comprehension.\n",
    "\n",
    "- A good usecase is to create a matrix."
   ]
  },
  {
   "cell_type": "code",
   "execution_count": 23,
   "id": "644dd483",
   "metadata": {},
   "outputs": [
    {
     "name": "stdout",
     "output_type": "stream",
     "text": [
      "[[1, 2, 3, 4], [2, 4, 6, 8], [3, 6, 9, 12]]\n"
     ]
    }
   ],
   "source": [
    "# create a M*N matrix\n",
    "M, N = (3, 4)\n",
    "\n",
    "mat = [[(i + 1) * (j + 1) for j in range(N)] for i in range(M)]\n",
    "print(mat)"
   ]
  },
  {
   "cell_type": "markdown",
   "id": "a5b832f7",
   "metadata": {},
   "source": [
    "> **NOTE:** The above code is the right way to creating a matrix, if you use the below syntax, you end up with some unexpected results."
   ]
  },
  {
   "cell_type": "code",
   "execution_count": 30,
   "id": "d56a4729",
   "metadata": {},
   "outputs": [
    {
     "name": "stdout",
     "output_type": "stream",
     "text": [
      "[[], [], []]\n",
      "[[100], [100], [100]]\n"
     ]
    }
   ],
   "source": [
    "adj = [[] * N] * M\n",
    "print(adj)\n",
    "adj[0].append(100)\n",
    "print(adj) \n",
    "# this add to all the rows"
   ]
  },
  {
   "cell_type": "code",
   "execution_count": 32,
   "id": "1f671b82",
   "metadata": {},
   "outputs": [
    {
     "name": "stdout",
     "output_type": "stream",
     "text": [
      "[[], [], []]\n",
      "[[100], [], []]\n"
     ]
    }
   ],
   "source": [
    "# the right way of doing it:\n",
    "adj = [[] for i in range(M)]\n",
    "print(adj)\n",
    "adj[0].append(100)\n",
    "print(adj)"
   ]
  }
 ],
 "metadata": {
  "kernelspec": {
   "display_name": "Python 3 (ipykernel)",
   "language": "python",
   "name": "python3"
  },
  "language_info": {
   "codemirror_mode": {
    "name": "ipython",
    "version": 3
   },
   "file_extension": ".py",
   "mimetype": "text/x-python",
   "name": "python",
   "nbconvert_exporter": "python",
   "pygments_lexer": "ipython3",
   "version": "3.9.12"
  }
 },
 "nbformat": 4,
 "nbformat_minor": 5
}
