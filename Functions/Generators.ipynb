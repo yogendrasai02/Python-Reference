{
 "cells": [
  {
   "cell_type": "markdown",
   "id": "b10f4597",
   "metadata": {},
   "source": [
    "# Generators\n",
    "\n",
    "(Reference: course slides of [this udemy course](https://www.udemy.com/course/complete-python-bootcamp))\n",
    "\n",
    "- Generator functions allow us to write a function that can send back a value and then later resume to pick up where it left off. \n",
    "\n",
    "- This type of function is a generator in Python, allowing us to generate a sequence of values over time. \n",
    "\n",
    "- The main difference in syntax will be the use of a `yield` statement.\n",
    "\n",
    "- When a generator function is compiled they become an object that supports an iteration protocol. \n",
    "\n",
    "- That means when they are called in your code they don't actually return a value and then exit. \n",
    "\n",
    "- Generator functions will automatically suspend and resume their execution and state around the last point of value generation. \n",
    "\n",
    "- The advantage is that instead of having to compute an entire series of values up front, the generator computes one value waits until the next value is called for.\n",
    "\n",
    "- For example, the `range(` function doesn’t produce an list in memory for all the values from start to stop. Instead it just keeps track of the last number and the step size, to provide a flow of numbers.\n",
    "\n",
    "- If a user did need the list, they have to transform the generator to a list with `list(range(0,10))`.\n",
    "\n",
    "- The advantage is that, we donot store the entire sequence in memory, but **generate** the values one at a time, whenever needed."
   ]
  },
  {
   "cell_type": "code",
   "execution_count": 1,
   "id": "cf2bd0ff",
   "metadata": {},
   "outputs": [],
   "source": [
    "# function to generate cubes of all numbers from 0 to n\n",
    "def gen_cubes(n):\n",
    "    res = []\n",
    "    for i in range(n + 1):\n",
    "        val = i ** 3\n",
    "        res.append(val)\n",
    "    return res"
   ]
  },
  {
   "cell_type": "code",
   "execution_count": 2,
   "id": "e9fab76f",
   "metadata": {},
   "outputs": [
    {
     "name": "stdout",
     "output_type": "stream",
     "text": [
      "[0, 1, 8, 27, 64, 125, 216, 343, 512, 729, 1000]\n",
      "0\n",
      "1\n",
      "8\n",
      "27\n",
      "64\n",
      "125\n",
      "216\n",
      "343\n",
      "512\n",
      "729\n",
      "1000\n"
     ]
    }
   ],
   "source": [
    "cubes = gen_cubes(10)\n",
    "print(cubes)\n",
    "for i in gen_cubes(10):\n",
    "    print(i)"
   ]
  },
  {
   "cell_type": "code",
   "execution_count": 3,
   "id": "5e094f17",
   "metadata": {},
   "outputs": [],
   "source": [
    "# using a generator for the above example\n",
    "def gen_cubes(n):\n",
    "    for i in range(n + 1):\n",
    "        val = i ** 3\n",
    "        yield val"
   ]
  },
  {
   "cell_type": "code",
   "execution_count": 4,
   "id": "b70e8915",
   "metadata": {},
   "outputs": [
    {
     "data": {
      "text/plain": [
       "<generator object gen_cubes at 0x0000020F362A2660>"
      ]
     },
     "execution_count": 4,
     "metadata": {},
     "output_type": "execute_result"
    }
   ],
   "source": [
    "gen_cubes(10)"
   ]
  },
  {
   "cell_type": "code",
   "execution_count": 5,
   "id": "718fa408",
   "metadata": {},
   "outputs": [
    {
     "name": "stdout",
     "output_type": "stream",
     "text": [
      "0\n",
      "1\n",
      "8\n",
      "27\n",
      "64\n",
      "125\n",
      "216\n",
      "343\n",
      "512\n",
      "729\n",
      "1000\n"
     ]
    }
   ],
   "source": [
    "for x in gen_cubes(10):\n",
    "    print(x)"
   ]
  },
  {
   "cell_type": "code",
   "execution_count": 6,
   "id": "904f5af8",
   "metadata": {},
   "outputs": [],
   "source": [
    "# example to generate fibonacci sequence\n",
    "def gen_fib(n):\n",
    "    a = 0\n",
    "    b = 1\n",
    "    for i in range(n):\n",
    "        yield a\n",
    "        a, b = b, a + b"
   ]
  },
  {
   "cell_type": "code",
   "execution_count": 7,
   "id": "202b3378",
   "metadata": {},
   "outputs": [
    {
     "name": "stdout",
     "output_type": "stream",
     "text": [
      "0 1 1 2 3 5 8 13 21 34 "
     ]
    }
   ],
   "source": [
    "for x in gen_fib(10):\n",
    "    print(x, end = ' ')"
   ]
  },
  {
   "cell_type": "markdown",
   "id": "994f6dff",
   "metadata": {},
   "source": [
    "## Behind the scenes of a generator\n",
    "\n",
    "- Two functions are used behind the scenes: `next()` and `iter()`.\n",
    "\n",
    "- `next()` essentially gives you the next value of the sequence in an iteration.\n",
    "\n",
    "- `iter()` essentially can be used to convert an iterable into an iterator, and apply iteration protocol on it."
   ]
  },
  {
   "cell_type": "code",
   "execution_count": 8,
   "id": "75eba6b0",
   "metadata": {},
   "outputs": [],
   "source": [
    "# example of next()\n",
    "def gen_cubes(n):\n",
    "    for i in range(n):\n",
    "        yield (i ** 3)"
   ]
  },
  {
   "cell_type": "code",
   "execution_count": 13,
   "id": "6aa1ed8e",
   "metadata": {},
   "outputs": [],
   "source": [
    "g = gen_cubes(4)"
   ]
  },
  {
   "cell_type": "code",
   "execution_count": 14,
   "id": "5b03e5c2",
   "metadata": {},
   "outputs": [
    {
     "data": {
      "text/plain": [
       "<generator object gen_cubes at 0x0000020F362A2C10>"
      ]
     },
     "execution_count": 14,
     "metadata": {},
     "output_type": "execute_result"
    }
   ],
   "source": [
    "g"
   ]
  },
  {
   "cell_type": "code",
   "execution_count": 15,
   "id": "39136a79",
   "metadata": {},
   "outputs": [
    {
     "name": "stdout",
     "output_type": "stream",
     "text": [
      "0\n"
     ]
    }
   ],
   "source": [
    "print(next(g))"
   ]
  },
  {
   "cell_type": "code",
   "execution_count": 16,
   "id": "21e4764b",
   "metadata": {},
   "outputs": [
    {
     "name": "stdout",
     "output_type": "stream",
     "text": [
      "1\n"
     ]
    }
   ],
   "source": [
    "print(next(g))"
   ]
  },
  {
   "cell_type": "code",
   "execution_count": 17,
   "id": "6b452c09",
   "metadata": {},
   "outputs": [
    {
     "name": "stdout",
     "output_type": "stream",
     "text": [
      "8\n"
     ]
    }
   ],
   "source": [
    "print(next(g))"
   ]
  },
  {
   "cell_type": "code",
   "execution_count": 18,
   "id": "8e98f7e5",
   "metadata": {},
   "outputs": [
    {
     "name": "stdout",
     "output_type": "stream",
     "text": [
      "27\n"
     ]
    }
   ],
   "source": [
    "print(next(g))"
   ]
  },
  {
   "cell_type": "code",
   "execution_count": 19,
   "id": "8205185c",
   "metadata": {},
   "outputs": [
    {
     "ename": "StopIteration",
     "evalue": "",
     "output_type": "error",
     "traceback": [
      "\u001b[1;31m---------------------------------------------------------------------------\u001b[0m",
      "\u001b[1;31mStopIteration\u001b[0m                             Traceback (most recent call last)",
      "Input \u001b[1;32mIn [19]\u001b[0m, in \u001b[0;36m<cell line: 1>\u001b[1;34m()\u001b[0m\n\u001b[1;32m----> 1\u001b[0m \u001b[38;5;28mprint\u001b[39m(\u001b[38;5;28;43mnext\u001b[39;49m\u001b[43m(\u001b[49m\u001b[43mg\u001b[49m\u001b[43m)\u001b[49m)\n",
      "\u001b[1;31mStopIteration\u001b[0m: "
     ]
    }
   ],
   "source": [
    "print(next(g))"
   ]
  },
  {
   "cell_type": "markdown",
   "id": "c950d573",
   "metadata": {},
   "source": [
    "- Notice that when all the values are yielded, a `StopIterator` exception is thrown.\n",
    "\n",
    "- When we use a generator with a `for` loop, this exception is handled automatically and the iteration is stopped."
   ]
  },
  {
   "cell_type": "code",
   "execution_count": 20,
   "id": "3c62ed09",
   "metadata": {},
   "outputs": [
    {
     "name": "stdout",
     "output_type": "stream",
     "text": [
      "10\n",
      "20\n",
      "30\n",
      "40\n"
     ]
    }
   ],
   "source": [
    "# example of iter()\n",
    "# iterables donot support iteration, we cant use next()\n",
    "nums = [10, 20, 30, 40]\n",
    "# they can be iterated upon\n",
    "for num in nums:\n",
    "    print(num)"
   ]
  },
  {
   "cell_type": "code",
   "execution_count": 21,
   "id": "f0361a5a",
   "metadata": {},
   "outputs": [
    {
     "ename": "TypeError",
     "evalue": "'list' object is not an iterator",
     "output_type": "error",
     "traceback": [
      "\u001b[1;31m---------------------------------------------------------------------------\u001b[0m",
      "\u001b[1;31mTypeError\u001b[0m                                 Traceback (most recent call last)",
      "Input \u001b[1;32mIn [21]\u001b[0m, in \u001b[0;36m<cell line: 2>\u001b[1;34m()\u001b[0m\n\u001b[0;32m      1\u001b[0m \u001b[38;5;66;03m# but we cant call next()\u001b[39;00m\n\u001b[1;32m----> 2\u001b[0m \u001b[38;5;28;43mnext\u001b[39;49m\u001b[43m(\u001b[49m\u001b[43mnums\u001b[49m\u001b[43m)\u001b[49m\n",
      "\u001b[1;31mTypeError\u001b[0m: 'list' object is not an iterator"
     ]
    }
   ],
   "source": [
    "# but we cant call next()\n",
    "next(nums)"
   ]
  },
  {
   "cell_type": "code",
   "execution_count": 24,
   "id": "d6fafbfc",
   "metadata": {},
   "outputs": [
    {
     "name": "stdout",
     "output_type": "stream",
     "text": [
      "10\n",
      "20\n",
      "30\n",
      "40\n"
     ]
    },
    {
     "ename": "StopIteration",
     "evalue": "",
     "output_type": "error",
     "traceback": [
      "\u001b[1;31m---------------------------------------------------------------------------\u001b[0m",
      "\u001b[1;31mStopIteration\u001b[0m                             Traceback (most recent call last)",
      "Input \u001b[1;32mIn [24]\u001b[0m, in \u001b[0;36m<cell line: 7>\u001b[1;34m()\u001b[0m\n\u001b[0;32m      5\u001b[0m \u001b[38;5;28mprint\u001b[39m(\u001b[38;5;28mnext\u001b[39m(nums_iterator))\n\u001b[0;32m      6\u001b[0m \u001b[38;5;28mprint\u001b[39m(\u001b[38;5;28mnext\u001b[39m(nums_iterator))\n\u001b[1;32m----> 7\u001b[0m \u001b[38;5;28mprint\u001b[39m(\u001b[38;5;28;43mnext\u001b[39;49m\u001b[43m(\u001b[49m\u001b[43mnums_iterator\u001b[49m\u001b[43m)\u001b[49m)\n",
      "\u001b[1;31mStopIteration\u001b[0m: "
     ]
    }
   ],
   "source": [
    "# using iter(), we can convert an iterable object into an iterator\n",
    "nums_iterator = iter(nums)\n",
    "print(next(nums_iterator))\n",
    "print(next(nums_iterator))\n",
    "print(next(nums_iterator))\n",
    "print(next(nums_iterator))\n",
    "print(next(nums_iterator)) # raises StopIteration exception"
   ]
  },
  {
   "cell_type": "code",
   "execution_count": null,
   "id": "53e6db21",
   "metadata": {},
   "outputs": [],
   "source": []
  }
 ],
 "metadata": {
  "kernelspec": {
   "display_name": "Python 3 (ipykernel)",
   "language": "python",
   "name": "python3"
  },
  "language_info": {
   "codemirror_mode": {
    "name": "ipython",
    "version": 3
   },
   "file_extension": ".py",
   "mimetype": "text/x-python",
   "name": "python",
   "nbconvert_exporter": "python",
   "pygments_lexer": "ipython3",
   "version": "3.9.12"
  }
 },
 "nbformat": 4,
 "nbformat_minor": 5
}
