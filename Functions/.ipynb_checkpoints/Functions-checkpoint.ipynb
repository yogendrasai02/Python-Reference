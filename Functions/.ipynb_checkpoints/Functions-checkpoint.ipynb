{
 "cells": [
  {
   "cell_type": "markdown",
   "id": "61e99880",
   "metadata": {},
   "source": [
    "# Functions\n",
    "\n",
    "- Functions are a block of code which perform a particular task.\n",
    "\n",
    "- They provide code reusability, the same block of code can be execute multiple times by defining the block only once.\n",
    "\n",
    "- The syntax for defining functions is:\n",
    "\n",
    "```python\n",
    "def function_name(parameters):\n",
    "    '''\n",
    "    docstring \n",
    "    (optional)\n",
    "    this explains what the function does\n",
    "    the docstring is returned when help() is called on this function\n",
    "    '''\n",
    "    # code to execute\n",
    "```\n",
    "\n",
    "- The above syntax simply defines the function: `def` keyword stands for definition.\n",
    "\n",
    "- In Python, it is a convention to name functions using **Snake Casing**.\n",
    "\n",
    "- To actually execute the function, you must **call** the function.\n",
    "\n",
    "- Syntax to call the function: `function_name(parameters_actual_values)`\n",
    "\n",
    "- A function may accept some **parameters/arguments** which act as input to the function and may **return** some value, which is the output of the function.\n",
    "    - We use the `return` keyword to return a value from the function."
   ]
  },
  {
   "cell_type": "code",
   "execution_count": 1,
   "id": "40df6fac",
   "metadata": {},
   "outputs": [],
   "source": [
    "# defining a simple function\n",
    "def greet():\n",
    "    '''\n",
    "    simply greet by saying 'Hello World'\n",
    "    '''\n",
    "    print('Hello World')"
   ]
  },
  {
   "cell_type": "code",
   "execution_count": 2,
   "id": "38781cee",
   "metadata": {},
   "outputs": [
    {
     "name": "stdout",
     "output_type": "stream",
     "text": [
      "Hello World\n"
     ]
    }
   ],
   "source": [
    "# call the function\n",
    "greet()"
   ]
  },
  {
   "cell_type": "code",
   "execution_count": 3,
   "id": "181e98a4",
   "metadata": {},
   "outputs": [
    {
     "name": "stdout",
     "output_type": "stream",
     "text": [
      "Help on function greet in module __main__:\n",
      "\n",
      "greet()\n",
      "    simply greet by saying 'Hello World'\n",
      "\n"
     ]
    }
   ],
   "source": [
    "help(greet) # returns the doc string"
   ]
  },
  {
   "cell_type": "code",
   "execution_count": 4,
   "id": "29f9c301",
   "metadata": {},
   "outputs": [],
   "source": [
    "# function with parameters\n",
    "def greet(name):\n",
    "    print(f'Hello {name}')"
   ]
  },
  {
   "cell_type": "code",
   "execution_count": 5,
   "id": "cf8d2e67",
   "metadata": {},
   "outputs": [
    {
     "name": "stdout",
     "output_type": "stream",
     "text": [
      "Hello Sheldon\n"
     ]
    }
   ],
   "source": [
    "greet('Sheldon')"
   ]
  },
  {
   "cell_type": "code",
   "execution_count": 6,
   "id": "0b98d2f1",
   "metadata": {},
   "outputs": [],
   "source": [
    "# A function might return something\n",
    "def avg(nums):\n",
    "    total = sum(nums)\n",
    "    n = len(nums)\n",
    "    return total / n"
   ]
  },
  {
   "cell_type": "code",
   "execution_count": 7,
   "id": "cacbeb29",
   "metadata": {},
   "outputs": [
    {
     "name": "stdout",
     "output_type": "stream",
     "text": [
      "25.0\n"
     ]
    }
   ],
   "source": [
    "print(avg([10, 20, 30, 40]))"
   ]
  },
  {
   "cell_type": "markdown",
   "id": "6a95169d",
   "metadata": {},
   "source": [
    "- Whenever a function does not have a `return` keyword, it returns nothing, **None type**."
   ]
  },
  {
   "cell_type": "code",
   "execution_count": 8,
   "id": "68530434",
   "metadata": {},
   "outputs": [
    {
     "name": "stdout",
     "output_type": "stream",
     "text": [
      "Hello Sheldon\n",
      "None\n",
      "<class 'NoneType'>\n"
     ]
    }
   ],
   "source": [
    "ret = greet('Sheldon')\n",
    "print(ret)\n",
    "print(type(ret))"
   ]
  },
  {
   "cell_type": "markdown",
   "id": "7fd3c884",
   "metadata": {},
   "source": [
    "- By default, the parameters you give to a function are called **Positional arguments**, they are fixed.\n",
    "\n",
    "- You can also give **Keyword arguments**, where during the function call, you specify the argument name."
   ]
  },
  {
   "cell_type": "code",
   "execution_count": 9,
   "id": "f9deb86d",
   "metadata": {},
   "outputs": [
    {
     "name": "stdout",
     "output_type": "stream",
     "text": [
      "Hello Sheldon Cooper\n",
      "Hello Sheldon Cooper\n"
     ]
    }
   ],
   "source": [
    "# Example of keyword arguments\n",
    "\n",
    "def greet(first_name, last_name):\n",
    "    print(f'Hello {first_name} {last_name}')\n",
    "    \n",
    "greet(first_name = 'Sheldon', last_name = 'Cooper')\n",
    "greet(last_name = 'Cooper', first_name = 'Sheldon')"
   ]
  },
  {
   "cell_type": "markdown",
   "id": "417efdff",
   "metadata": {},
   "source": [
    "## Default arguments\n",
    "\n",
    "- If a function accepts `x` number of parameters and if you do not pass exactly `x` number of parameters during the function call, python raises an error.\n",
    "\n",
    "- You can assign *default values* to arguments, so when they are not explictly set during a function call, the default values are used."
   ]
  },
  {
   "cell_type": "code",
   "execution_count": 11,
   "id": "8e65048a",
   "metadata": {},
   "outputs": [
    {
     "ename": "TypeError",
     "evalue": "pow_f() missing 1 required positional argument: 'm'",
     "output_type": "error",
     "traceback": [
      "\u001b[1;31m---------------------------------------------------------------------------\u001b[0m",
      "\u001b[1;31mTypeError\u001b[0m                                 Traceback (most recent call last)",
      "Input \u001b[1;32mIn [11]\u001b[0m, in \u001b[0;36m<cell line: 6>\u001b[1;34m()\u001b[0m\n\u001b[0;32m      3\u001b[0m \u001b[38;5;28;01mdef\u001b[39;00m \u001b[38;5;21mpow_f\u001b[39m(a, b, m):\n\u001b[0;32m      4\u001b[0m     \u001b[38;5;28;01mreturn\u001b[39;00m \u001b[38;5;28mpow\u001b[39m(a, b, m)\n\u001b[1;32m----> 6\u001b[0m \u001b[43mpow_f\u001b[49m\u001b[43m(\u001b[49m\u001b[38;5;241;43m100\u001b[39;49m\u001b[43m,\u001b[49m\u001b[43m \u001b[49m\u001b[38;5;241;43m200\u001b[39;49m\u001b[43m)\u001b[49m\n",
      "\u001b[1;31mTypeError\u001b[0m: pow_f() missing 1 required positional argument: 'm'"
     ]
    }
   ],
   "source": [
    "# Above discussed error\n",
    "\n",
    "def pow_f(a, b, m):\n",
    "    return pow(a, b, m)\n",
    "\n",
    "pow_f(100, 200) # raises an error"
   ]
  },
  {
   "cell_type": "code",
   "execution_count": 12,
   "id": "9a2566b9",
   "metadata": {},
   "outputs": [
    {
     "name": "stdout",
     "output_type": "stream",
     "text": [
      "794576212\n",
      "1\n"
     ]
    }
   ],
   "source": [
    "# using default arguments\n",
    "\n",
    "def pow_f(a, b, m = int(1e9 + 7)):\n",
    "    return pow(a, b, m)\n",
    "\n",
    "print(pow_f(100, 200))\n",
    "print(pow_f(100, 200, 17))"
   ]
  },
  {
   "cell_type": "markdown",
   "id": "596486aa",
   "metadata": {},
   "source": [
    "## Variable length arguments - `*args` and `**kwargs`\n",
    "\n",
    "- By default, if a function definition has `x` parameters defined, it required `x` parameters to be passed during the function call. You could also use default arguments to call the function with `< x` parameter but that is incovienient.\n",
    "\n",
    "- Using the `*args` and `**kwargs`, a function can be called with any number of arguments. Hence the term, **Variable length arguments.**\n",
    "\n",
    "- `*args` stands for arguments, which means Variable-length arguments. \n",
    "    - It packs together the passed parameters as a **tuple**.\n",
    "    \n",
    "- `**kwargs` stands for keyword arguments, which means Variable-length keyword arguments.\n",
    "    - It packs together the passed parameters as a **dictionary**.\n",
    "    - While calling the function, the keywords must be specified.\n",
    "    \n",
    "- Both `*args` and `**kwargs` can be used at the same time but in a specific order: `*args` must come before `**kwargs`.\n",
    "\n",
    "- Note that `*args` and `**kwargs` are just some **naming conventions**. We could also name them as `*bell` and `**curve` but better follow the recommended convention."
   ]
  },
  {
   "cell_type": "code",
   "execution_count": 13,
   "id": "c5d5b559",
   "metadata": {},
   "outputs": [
    {
     "name": "stdout",
     "output_type": "stream",
     "text": [
      "15.0\n",
      "20.0\n"
     ]
    }
   ],
   "source": [
    "# Example leading to usage of *args\n",
    "\n",
    "# Average of 2 numbers\n",
    "def avg(a, b):\n",
    "    return (a + b) / 2\n",
    "\n",
    "print(avg(10, 20))\n",
    "\n",
    "# Average of 3 numbers\n",
    "def avg(a, b, c):\n",
    "    return (a + b + c) / 3\n",
    "\n",
    "print(avg(10, 20, 30))"
   ]
  },
  {
   "cell_type": "code",
   "execution_count": 14,
   "id": "000a36a0",
   "metadata": {},
   "outputs": [],
   "source": [
    "# Average of N numbers\n",
    "def avg(*args):\n",
    "    print(args)\n",
    "    print(type(args))\n",
    "    N = len(args)\n",
    "    if N == 0:\n",
    "        return 0\n",
    "    return sum(args) / N"
   ]
  },
  {
   "cell_type": "code",
   "execution_count": 17,
   "id": "9e5fdc26",
   "metadata": {},
   "outputs": [
    {
     "name": "stdout",
     "output_type": "stream",
     "text": [
      "()\n",
      "<class 'tuple'>\n",
      "0\n",
      "----\n",
      "(10,)\n",
      "<class 'tuple'>\n",
      "10.0\n",
      "----\n",
      "(10, 20)\n",
      "<class 'tuple'>\n",
      "15.0\n",
      "----\n",
      "(10, 20, 30)\n",
      "<class 'tuple'>\n",
      "20.0\n",
      "----\n",
      "(10, 20, 30, 40)\n",
      "<class 'tuple'>\n",
      "25.0\n"
     ]
    }
   ],
   "source": [
    "print(avg(), end = '\\n----\\n')\n",
    "print(avg(10), end = '\\n----\\n')\n",
    "print(avg(10, 20), end = '\\n----\\n')\n",
    "print(avg(10, 20, 30), end = '\\n----\\n')\n",
    "print(avg(10, 20, 30, 40))"
   ]
  },
  {
   "cell_type": "code",
   "execution_count": 18,
   "id": "d57d7e34",
   "metadata": {},
   "outputs": [],
   "source": [
    "# Another example: mixing positional arguments and *args\n",
    "def avg(N, *args):\n",
    "    print(args, type(args))\n",
    "    return sum(args) / N"
   ]
  },
  {
   "cell_type": "code",
   "execution_count": 19,
   "id": "b51d2084",
   "metadata": {},
   "outputs": [
    {
     "name": "stdout",
     "output_type": "stream",
     "text": [
      "(10, 20, 30) <class 'tuple'>\n"
     ]
    },
    {
     "data": {
      "text/plain": [
       "20.0"
      ]
     },
     "execution_count": 19,
     "metadata": {},
     "output_type": "execute_result"
    }
   ],
   "source": [
    "avg(3, 10, 20, 30)"
   ]
  },
  {
   "cell_type": "code",
   "execution_count": 20,
   "id": "a819c394",
   "metadata": {},
   "outputs": [],
   "source": [
    "# Using **kwargs\n",
    "def print_favs(**kwargs):\n",
    "    print(kwargs)\n",
    "    print(type(kwargs))"
   ]
  },
  {
   "cell_type": "code",
   "execution_count": 21,
   "id": "87b2469d",
   "metadata": {},
   "outputs": [
    {
     "name": "stdout",
     "output_type": "stream",
     "text": [
      "{'fruit': 'guava', 'vegetable': 'potato', 'oil': 'eucalyptus'}\n",
      "<class 'dict'>\n"
     ]
    }
   ],
   "source": [
    "print_favs(fruit='guava', vegetable='potato', oil='eucalyptus')"
   ]
  },
  {
   "cell_type": "code",
   "execution_count": 22,
   "id": "8fbff4fc",
   "metadata": {},
   "outputs": [
    {
     "name": "stdout",
     "output_type": "stream",
     "text": [
      "{'color': 'blue', 'chewing_gum': 'happydent'}\n",
      "<class 'dict'>\n"
     ]
    }
   ],
   "source": [
    "print_favs(color='blue', chewing_gum='happydent')"
   ]
  },
  {
   "cell_type": "code",
   "execution_count": 25,
   "id": "2edd53b3",
   "metadata": {},
   "outputs": [],
   "source": [
    "# Using both *args and **kwargs => *args must come before **kwargs\n",
    "def foo(*args, **kwargs):\n",
    "    print(args, type(args))\n",
    "    print(kwargs, type(kwargs))"
   ]
  },
  {
   "cell_type": "code",
   "execution_count": 27,
   "id": "bbb0b1af",
   "metadata": {},
   "outputs": [
    {
     "name": "stdout",
     "output_type": "stream",
     "text": [
      "(10, 'Jelly', True) <class 'tuple'>\n",
      "{'first_name': 'Sheldon', 'last_name': 'Cooper'} <class 'dict'>\n"
     ]
    }
   ],
   "source": [
    "foo(10, 'Jelly', True, first_name='Sheldon', last_name='Cooper')"
   ]
  },
  {
   "cell_type": "markdown",
   "id": "50456cd9",
   "metadata": {},
   "source": [
    "## Tuple unpacking with Functions"
   ]
  },
  {
   "cell_type": "code",
   "execution_count": 29,
   "id": "47da0eae",
   "metadata": {},
   "outputs": [
    {
     "name": "stdout",
     "output_type": "stream",
     "text": [
      "10 20\n",
      "10 20\n"
     ]
    }
   ],
   "source": [
    "# Example\n",
    "def foo():\n",
    "    return (10, 20)\n",
    "\n",
    "a, b = foo()\n",
    "print(a, b)\n",
    "\n",
    "(c, d) = foo()\n",
    "print(c, d)"
   ]
  }
 ],
 "metadata": {
  "kernelspec": {
   "display_name": "Python 3 (ipykernel)",
   "language": "python",
   "name": "python3"
  },
  "language_info": {
   "codemirror_mode": {
    "name": "ipython",
    "version": 3
   },
   "file_extension": ".py",
   "mimetype": "text/x-python",
   "name": "python",
   "nbconvert_exporter": "python",
   "pygments_lexer": "ipython3",
   "version": "3.9.12"
  }
 },
 "nbformat": 4,
 "nbformat_minor": 5
}
