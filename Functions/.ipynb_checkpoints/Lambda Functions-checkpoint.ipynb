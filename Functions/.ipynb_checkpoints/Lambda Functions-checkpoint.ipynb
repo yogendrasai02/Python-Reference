{
 "cells": [
  {
   "cell_type": "markdown",
   "id": "7250ecf4",
   "metadata": {},
   "source": [
    "# Lambda Functions\n",
    "\n",
    "- Lambda Functions allow us to create **Anonymous Functions**. These are the function which have no name, and are meant for single time usage.\n",
    "\n",
    "- The `lambda` keyword is used to create a lambda function.\n",
    "\n",
    "- A Lambda Function always take one argument as input and returns an expression as an output.\n",
    "\n",
    "- These are commonly used in conjunction to `map` and `filter` functions.\n",
    "\n",
    "- With the help of an example, lets convert a normal function into a lambda function."
   ]
  },
  {
   "cell_type": "code",
   "execution_count": 1,
   "id": "cc76d043",
   "metadata": {},
   "outputs": [
    {
     "name": "stdout",
     "output_type": "stream",
     "text": [
      "1000\n",
      "1000\n",
      "1000\n"
     ]
    }
   ],
   "source": [
    "# Function to return cube of a number\n",
    "\n",
    "def cube(n):\n",
    "    res = n ** 3\n",
    "    return res\n",
    "\n",
    "print(cube(10))\n",
    "\n",
    "# The above function can be shortened as:\n",
    "def cube(n):\n",
    "    return (n ** 3)\n",
    "\n",
    "print(cube(10))\n",
    "\n",
    "# The above function can be written in 1 line -> this is valid but not recommended syntax\n",
    "def cube(n): return (n ** 3)\n",
    "\n",
    "print(cube(10))"
   ]
  },
  {
   "cell_type": "markdown",
   "id": "5234cf0b",
   "metadata": {},
   "source": [
    "- Syntax for lambda expression is:\n",
    "\n",
    "```python\n",
    "lambda input_var: output_expression\n",
    "```\n",
    "\n",
    "- This is analogous to:\n",
    "\n",
    "```python\n",
    "def foo(input_var):\n",
    "    return output_expression\n",
    "```"
   ]
  },
  {
   "cell_type": "code",
   "execution_count": 2,
   "id": "763d4e7b",
   "metadata": {},
   "outputs": [
    {
     "data": {
      "text/plain": [
       "<function __main__.<lambda>(n)>"
      ]
     },
     "execution_count": 2,
     "metadata": {},
     "output_type": "execute_result"
    }
   ],
   "source": [
    "# No, convert into a lambda function\n",
    "# It actually returns a function, which we can use later on\n",
    "lambda n: n ** 3"
   ]
  },
  {
   "cell_type": "code",
   "execution_count": 3,
   "id": "813f6150",
   "metadata": {},
   "outputs": [
    {
     "name": "stdout",
     "output_type": "stream",
     "text": [
      "[1000, 8000, 27000]\n"
     ]
    }
   ],
   "source": [
    "# Usage with map()\n",
    "nums = [10, 20, 30]\n",
    "cubes = list(map(lambda n: n ** 3, nums))\n",
    "print(cubes)"
   ]
  },
  {
   "cell_type": "code",
   "execution_count": 4,
   "id": "6c1bc8af",
   "metadata": {},
   "outputs": [
    {
     "name": "stdout",
     "output_type": "stream",
     "text": [
      "[10, 12, 6]\n"
     ]
    }
   ],
   "source": [
    "# Usage with filter\n",
    "def is_even(num):\n",
    "    return num % 2 == 0\n",
    "nums = [10, 11, 12, 5, 6, 7]\n",
    "even_nums = list(filter(is_even, nums))\n",
    "print(even_nums)"
   ]
  },
  {
   "cell_type": "code",
   "execution_count": 5,
   "id": "b3173529",
   "metadata": {},
   "outputs": [
    {
     "name": "stdout",
     "output_type": "stream",
     "text": [
      "[10, 12, 6]\n"
     ]
    }
   ],
   "source": [
    "# Now using a lambda function for the above example\n",
    "even_nums = list(filter(lambda num: num % 2 == 0, nums))\n",
    "print(even_nums)"
   ]
  }
 ],
 "metadata": {
  "kernelspec": {
   "display_name": "Python 3 (ipykernel)",
   "language": "python",
   "name": "python3"
  },
  "language_info": {
   "codemirror_mode": {
    "name": "ipython",
    "version": 3
   },
   "file_extension": ".py",
   "mimetype": "text/x-python",
   "name": "python",
   "nbconvert_exporter": "python",
   "pygments_lexer": "ipython3",
   "version": "3.9.12"
  }
 },
 "nbformat": 4,
 "nbformat_minor": 5
}
