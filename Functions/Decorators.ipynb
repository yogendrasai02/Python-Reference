{
 "cells": [
  {
   "cell_type": "markdown",
   "id": "ee35a2c0",
   "metadata": {},
   "source": [
    "# Decorators\n",
    "\n",
    "- Decorators allow you to “decorate” a function.\n",
    "\n",
    "(Reference: course slides of [this udemy course](https://www.udemy.com/course/complete-python-bootcamp))\n",
    "\n",
    "- Say that you have a simple function like this:\n",
    "\n",
    "```python\n",
    "def foo():\n",
    "    # do something\n",
    "```\n",
    "\n",
    "- Lets say you want to do add more functionality to that function, with it losing its original meaning.\n",
    "\n",
    "```python\n",
    "def foo():\n",
    "    # additional functionality\n",
    "    # do something\n",
    "```\n",
    "\n",
    "- You now have two options:\n",
    "    \n",
    "    - Add that extra code (functionality) to your old function.\n",
    "    \n",
    "    - Create a brand new function that contains the old code, and then add new code to that.\n",
    "\n",
    "- But what if you then want to remove that extra “functionality”.\n",
    "\n",
    "- You would need to delete it manually, or make sure to have the old function.\n",
    "\n",
    "- Is there a better way? Maybe an on/off switch to quickly add this functionality?\n",
    "\n",
    "- Python has **decorators** that allow you to tack on extra functionality to an already existing function.\n",
    "\n",
    "- They use the `@` operator and are then placed on top of the original function.\n",
    "\n",
    "- For the above example, it is simplifies using a decorator with the below kind of code:\n",
    "\n",
    "```python\n",
    "@some_decorator\n",
    "def foo():\n",
    "    # do something\n",
    "```\n",
    "\n",
    "- Decorators might sound a pretty basic idea, but are widely used in Web Frameworks such as Django & Flask. What we are going to see here is just the behind the scenes of decorators.\n",
    "\n",
    "- To create our own decorators, we must know the following concepts: \n",
    "    \n",
    "    - Creating a function inside another function.\n",
    "    \n",
    "    - Passing functions as arguments.\n",
    "    \n",
    "    - Returning functions."
   ]
  },
  {
   "cell_type": "code",
   "execution_count": 1,
   "id": "d70ef5a3",
   "metadata": {},
   "outputs": [
    {
     "name": "stdout",
     "output_type": "stream",
     "text": [
      "foo()\n",
      "foo_bar()\n"
     ]
    }
   ],
   "source": [
    "# Passing functions as arguments\n",
    "\n",
    "def foo(bar):\n",
    "    print('foo()')\n",
    "    bar()\n",
    "    \n",
    "def foo_bar():\n",
    "    print('foo_bar()')\n",
    "    \n",
    "foo(foo_bar)"
   ]
  },
  {
   "cell_type": "code",
   "execution_count": 2,
   "id": "8c69285f",
   "metadata": {},
   "outputs": [
    {
     "name": "stdout",
     "output_type": "stream",
     "text": [
      "foo\n",
      "bar\n",
      "bar\n"
     ]
    }
   ],
   "source": [
    "# Defining a function inside another function and returning it as an argument\n",
    "def foo():\n",
    "    print('foo')\n",
    "    \n",
    "    def bar():\n",
    "        print('bar')\n",
    "    \n",
    "    return bar\n",
    "\n",
    "foo_bar = foo()\n",
    "foo_bar()\n",
    "del foo\n",
    "foo_bar()"
   ]
  },
  {
   "cell_type": "markdown",
   "id": "c2e7cc20",
   "metadata": {},
   "source": [
    "- To create our own decorator, we do the following:\n",
    "\n",
    "- Say, a function `func_needs_decorator()` needs to be decorated with some extra piece of code.\n",
    "\n",
    "- Create a function `my_decorator()` which accepts a function `original_func` as an argument.\n",
    "\n",
    "- Inside `my_decorator()`, define a function `wrapper_func()` which has some additional functionality and this wrapper function calls the `original_func`. So, this wrapper function is decorating that `original_func`.\n",
    "\n",
    "- Return `wrapper_func` from `my_decorator`.\n",
    "\n",
    "- Decorate `func_needs_decorator` definition using `@my_decorator` to add new functionality."
   ]
  },
  {
   "cell_type": "code",
   "execution_count": 3,
   "id": "206366f9",
   "metadata": {},
   "outputs": [],
   "source": [
    "def my_decorator(original_func):\n",
    "    def wrapper_func():\n",
    "        print('Extra code before')\n",
    "        original_func()\n",
    "        print('Extra code after')\n",
    "    return wrapper_func"
   ]
  },
  {
   "cell_type": "code",
   "execution_count": 4,
   "id": "c76a2230",
   "metadata": {},
   "outputs": [],
   "source": [
    "def func_needs_decorator():\n",
    "    print('Hello there!')"
   ]
  },
  {
   "cell_type": "code",
   "execution_count": 5,
   "id": "ea861f5c",
   "metadata": {},
   "outputs": [
    {
     "name": "stdout",
     "output_type": "stream",
     "text": [
      "Extra code before\n",
      "Hello there!\n",
      "Extra code after\n"
     ]
    }
   ],
   "source": [
    "# traditinally, you might do something like this:\n",
    "new_function = my_decorator(func_needs_decorator)\n",
    "new_function()"
   ]
  },
  {
   "cell_type": "code",
   "execution_count": 6,
   "id": "be6e4e10",
   "metadata": {},
   "outputs": [
    {
     "name": "stdout",
     "output_type": "stream",
     "text": [
      "Extra code before\n",
      "Hello there!\n",
      "Extra code after\n"
     ]
    }
   ],
   "source": [
    "# but you can use a decorator as follows:\n",
    "@my_decorator\n",
    "def func_needs_decorator():\n",
    "    print('Hello there!')\n",
    "    \n",
    "func_needs_decorator()\n",
    "# you can simply comment out that @my_decorator line to revert back to old functionality."
   ]
  }
 ],
 "metadata": {
  "kernelspec": {
   "display_name": "Python 3 (ipykernel)",
   "language": "python",
   "name": "python3"
  },
  "language_info": {
   "codemirror_mode": {
    "name": "ipython",
    "version": 3
   },
   "file_extension": ".py",
   "mimetype": "text/x-python",
   "name": "python",
   "nbconvert_exporter": "python",
   "pygments_lexer": "ipython3",
   "version": "3.9.12"
  }
 },
 "nbformat": 4,
 "nbformat_minor": 5
}
