{
 "cells": [
  {
   "cell_type": "markdown",
   "id": "cd5a771a",
   "metadata": {},
   "source": [
    "# Numbers\n",
    "\n",
    "- Python supports 2 main types of numbers: integers and floating point numbers.\n",
    "\n",
    "- **Integers**: these are whole numbers which can be either positive, negative or zero, without a fractional part.\n",
    "For example, `100, -249, 0` are some integers.\n",
    "\n",
    "- **Floating Point Numbers**: these are numbers with a decimal part.\n",
    "For example, `3.142, -2.72` are some floating point numbers.\n",
    "\n",
    "# Operators\n",
    "\n",
    "- Operators **operate** on **operands**. Operands might be variables or simply some constants.\n",
    "- In general, we talk about binary operators, such as +. For example, in `1 + 2`, `1` and `2` are operands while `+` is the `binary addition` operator.\n",
    "- Operators can be of various types such as:\n",
    "    - Arithmetic Operators\n",
    "    - Assignment + Short Hand Assignment Operators\n",
    "    - Comparision Operators\n",
    "    - Logical Operators\n",
    "    - Bitwise Operators\n",
    "- In this notebook, we will explore the Arithmetic Operators & Assignment|Short Hand Assignment Operators."
   ]
  },
  {
   "cell_type": "markdown",
   "id": "e414eb3b",
   "metadata": {},
   "source": [
    "## Arithmetic Operators\n",
    "\n",
    "- They are used to perform arithmetic operations such as add | subtract | multiply | divide, etc on numbers.\n",
    "\n",
    "- `+, -, *, /, //, %, **` are the arithmetic operators in Python.\n"
   ]
  },
  {
   "cell_type": "code",
   "execution_count": 1,
   "id": "9ab760d5",
   "metadata": {},
   "outputs": [
    {
     "data": {
      "text/plain": [
       "30"
      ]
     },
     "execution_count": 1,
     "metadata": {},
     "output_type": "execute_result"
    }
   ],
   "source": [
    "# Addition Operator\n",
    "10 + 20"
   ]
  },
  {
   "cell_type": "code",
   "execution_count": 2,
   "id": "8268de5e",
   "metadata": {},
   "outputs": [
    {
     "data": {
      "text/plain": [
       "-10"
      ]
     },
     "execution_count": 2,
     "metadata": {},
     "output_type": "execute_result"
    }
   ],
   "source": [
    "# Subtraction Operator\n",
    "10 - 20"
   ]
  },
  {
   "cell_type": "code",
   "execution_count": 3,
   "id": "cb420eb7",
   "metadata": {},
   "outputs": [
    {
     "data": {
      "text/plain": [
       "200"
      ]
     },
     "execution_count": 3,
     "metadata": {},
     "output_type": "execute_result"
    }
   ],
   "source": [
    "# Multiplication Operator\n",
    "10 * 20"
   ]
  },
  {
   "cell_type": "code",
   "execution_count": 4,
   "id": "26530ba1",
   "metadata": {},
   "outputs": [
    {
     "data": {
      "text/plain": [
       "0.5"
      ]
     },
     "execution_count": 4,
     "metadata": {},
     "output_type": "execute_result"
    }
   ],
   "source": [
    "# Division (Numeric Division) Operator\n",
    "10 / 20"
   ]
  },
  {
   "cell_type": "code",
   "execution_count": 5,
   "id": "1e3ec78d",
   "metadata": {},
   "outputs": [
    {
     "data": {
      "text/plain": [
       "0"
      ]
     },
     "execution_count": 5,
     "metadata": {},
     "output_type": "execute_result"
    }
   ],
   "source": [
    "# Floor Division Operator\n",
    "10 // 20"
   ]
  },
  {
   "cell_type": "code",
   "execution_count": 6,
   "id": "7fed2e87",
   "metadata": {},
   "outputs": [
    {
     "data": {
      "text/plain": [
       "3"
      ]
     },
     "execution_count": 6,
     "metadata": {},
     "output_type": "execute_result"
    }
   ],
   "source": [
    "# Remainder: Modulus Operator\n",
    "15 % 4"
   ]
  },
  {
   "cell_type": "code",
   "execution_count": 7,
   "id": "e0051fc7",
   "metadata": {},
   "outputs": [
    {
     "data": {
      "text/plain": [
       "100"
      ]
     },
     "execution_count": 7,
     "metadata": {},
     "output_type": "execute_result"
    }
   ],
   "source": [
    "# Exponentiation operator\n",
    "10 ** 2"
   ]
  },
  {
   "cell_type": "markdown",
   "id": "6068f332",
   "metadata": {},
   "source": [
    "## Assignment & Shorthand Assignment Operators\n",
    "\n",
    "- Note that the above code cells **return** the result of the computation. We can store that result in a variable using these operators.\n",
    "\n",
    "- `=` is the Assignment Operator\n",
    "\n",
    "- `a = a + 10` can be shortened as `a += 10` using the `+=` short hand assignment operator.\n",
    "\n",
    "- Similarly, we have `-=, *=, /=, //=, **=, %=` operators as well.\n"
   ]
  },
  {
   "cell_type": "code",
   "execution_count": 8,
   "id": "c3087338",
   "metadata": {},
   "outputs": [
    {
     "name": "stdout",
     "output_type": "stream",
     "text": [
      "30\n"
     ]
    }
   ],
   "source": [
    "# Assignment operator\n",
    "a = 10 + 20\n",
    "print(a)"
   ]
  },
  {
   "cell_type": "code",
   "execution_count": 10,
   "id": "d0616501",
   "metadata": {},
   "outputs": [
    {
     "name": "stdout",
     "output_type": "stream",
     "text": [
      "Initial Value of a: 50\n",
      "60\n",
      "70\n"
     ]
    }
   ],
   "source": [
    "print(\"Initial Value of a:\", a)\n",
    "# Variable Reassignment\n",
    "a = a + 10\n",
    "print(a)\n",
    "\n",
    "# Variable Reassignment using Shorthand Assignment operator\n",
    "a += 10\n",
    "print(a)"
   ]
  },
  {
   "cell_type": "markdown",
   "id": "c49ba6b4",
   "metadata": {},
   "source": [
    "## Precedence & Associativity of Operators\n",
    "\n",
    "- Refer to [this article on GFG](https://www.geeksforgeeks.org/precedence-and-associativity-of-operators-in-python/).\n",
    "- Lets go through some simple examples in the code cells below.\n"
   ]
  },
  {
   "cell_type": "code",
   "execution_count": 11,
   "id": "836fcc40",
   "metadata": {},
   "outputs": [
    {
     "name": "stdout",
     "output_type": "stream",
     "text": [
      "26\n"
     ]
    }
   ],
   "source": [
    "# This is equal to (2 * 3) + (4 * 5)\n",
    "res = 2 * 3 + 4 * 5\n",
    "print(res)"
   ]
  },
  {
   "cell_type": "code",
   "execution_count": 12,
   "id": "11de6d5e",
   "metadata": {},
   "outputs": [
    {
     "name": "stdout",
     "output_type": "stream",
     "text": [
      "23\n"
     ]
    }
   ],
   "source": [
    "# This is equal to (10 * 2) + 3\n",
    "res = 10 * 2 + 3\n",
    "print(res)"
   ]
  },
  {
   "cell_type": "code",
   "execution_count": 13,
   "id": "f79e2c2b",
   "metadata": {},
   "outputs": [
    {
     "name": "stdout",
     "output_type": "stream",
     "text": [
      "50\n"
     ]
    }
   ],
   "source": [
    "# Paranthesis has highest importance.\n",
    "res = 10 * (2 + 3)\n",
    "print(res)"
   ]
  }
 ],
 "metadata": {
  "kernelspec": {
   "display_name": "Python 3 (ipykernel)",
   "language": "python",
   "name": "python3"
  },
  "language_info": {
   "codemirror_mode": {
    "name": "ipython",
    "version": 3
   },
   "file_extension": ".py",
   "mimetype": "text/x-python",
   "name": "python",
   "nbconvert_exporter": "python",
   "pygments_lexer": "ipython3",
   "version": "3.9.12"
  }
 },
 "nbformat": 4,
 "nbformat_minor": 5
}
