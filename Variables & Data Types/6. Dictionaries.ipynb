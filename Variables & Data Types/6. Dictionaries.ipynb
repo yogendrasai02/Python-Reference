{
 "cells": [
  {
   "cell_type": "markdown",
   "id": "89d00c7f",
   "metadata": {},
   "source": [
    "# Dictionaries\n",
    "\n",
    "- Dictionaries are unordered mappings of key-value pairs.\n",
    "\n",
    "- These are basically like a **hash table**, where each element associated with the dictionary has a **string key** and each key corresponds to a **value**, where the `value` can be of any datatype.\n",
    "\n",
    "- The key-value pairs are unordered, there is not relative sequencing.\n",
    "\n",
    "- Dictionaries use `{}` syntax.\n",
    "    - Each `key` is a string.\n",
    "    - `value` can be of any datatype.\n",
    "    - Ex: `my_dict = {'key_1': 'value_1', 'key_2': 200}`"
   ]
  },
  {
   "cell_type": "code",
   "execution_count": 1,
   "id": "8129d1ba",
   "metadata": {},
   "outputs": [
    {
     "name": "stdout",
     "output_type": "stream",
     "text": [
      "{'mario': 90, 'luigi': 80, 'ken': 95, 'ryu': 92}\n",
      "<class 'dict'>\n"
     ]
    }
   ],
   "source": [
    "# Defining a simple dictionary\n",
    "scores = {\n",
    "    'mario': 90,\n",
    "    'luigi': 80,\n",
    "    'ken': 95,\n",
    "    'ryu': 92\n",
    "}\n",
    "print(scores)\n",
    "print(type(scores))"
   ]
  },
  {
   "cell_type": "markdown",
   "id": "fdaff508",
   "metadata": {},
   "source": [
    "## Accessing a value from a dictionary\n",
    "\n",
    "- To access the `value` for a given key, we can use `[]` notation. We pass in the `key` as the argument and it returns the corresponding `value`.\n",
    "\n",
    "- Ex: `scores['mario']` returns `90`\n",
    "\n",
    "- Time Complexity: $O(1)$ in the average case. It is very rare, but might go upto $O(N)$ in the worst case, since it is a **Hash Table**.\n",
    "\n",
    "- If you try to access a key which is NOT PRESENT in the dictionary, you get an error: **Key Error**"
   ]
  },
  {
   "cell_type": "code",
   "execution_count": 2,
   "id": "011c9b05",
   "metadata": {},
   "outputs": [
    {
     "data": {
      "text/plain": [
       "80"
      ]
     },
     "execution_count": 2,
     "metadata": {},
     "output_type": "execute_result"
    }
   ],
   "source": [
    "# Accessing the values\n",
    "scores['luigi']"
   ]
  },
  {
   "cell_type": "code",
   "execution_count": 3,
   "id": "2de6538d",
   "metadata": {},
   "outputs": [
    {
     "ename": "KeyError",
     "evalue": "'chun-li'",
     "output_type": "error",
     "traceback": [
      "\u001b[1;31m---------------------------------------------------------------------------\u001b[0m",
      "\u001b[1;31mKeyError\u001b[0m                                  Traceback (most recent call last)",
      "Input \u001b[1;32mIn [3]\u001b[0m, in \u001b[0;36m<cell line: 2>\u001b[1;34m()\u001b[0m\n\u001b[0;32m      1\u001b[0m \u001b[38;5;66;03m# If you try to access a key which is NOT PRESENT in the dictionary, you get an error.\u001b[39;00m\n\u001b[1;32m----> 2\u001b[0m \u001b[43mscores\u001b[49m\u001b[43m[\u001b[49m\u001b[38;5;124;43m'\u001b[39;49m\u001b[38;5;124;43mchun-li\u001b[39;49m\u001b[38;5;124;43m'\u001b[39;49m\u001b[43m]\u001b[49m\n",
      "\u001b[1;31mKeyError\u001b[0m: 'chun-li'"
     ]
    }
   ],
   "source": [
    "# If you try to access a key which is NOT PRESENT in the dictionary, you get an error -> Key Error \n",
    "scores['chun-li']"
   ]
  },
  {
   "cell_type": "code",
   "execution_count": 4,
   "id": "2c51ec26",
   "metadata": {},
   "outputs": [
    {
     "name": "stdout",
     "output_type": "stream",
     "text": [
      "value2.4\n"
     ]
    }
   ],
   "source": [
    "# Nested items\n",
    "d = {\n",
    "    'key1': 'value1',\n",
    "    'key2': [\n",
    "        'value2.1',\n",
    "        'value2.2',\n",
    "        {\n",
    "            'key2.0': 'value2.3',\n",
    "            'key2.1': 'value2.4'\n",
    "        }\n",
    "    ]\n",
    "}\n",
    "print(d['key2'][-1]['key2.1'])"
   ]
  },
  {
   "cell_type": "markdown",
   "id": "4e16cf63",
   "metadata": {},
   "source": [
    "### Inserting items into a dictionary\n",
    "\n",
    "- Simply assign a new key, a value using the following syntax: `dict_var[newKey] = newValue`\n"
   ]
  },
  {
   "cell_type": "code",
   "execution_count": 5,
   "id": "5b7d8707",
   "metadata": {},
   "outputs": [
    {
     "name": "stdout",
     "output_type": "stream",
     "text": [
      "{'shaun': 'black', 'mario': 'red'}\n",
      "{'shaun': 'black', 'mario': 'red', 'luigi': 'orange'}\n"
     ]
    }
   ],
   "source": [
    "ninjas = {\n",
    "    'shaun': 'black',\n",
    "    'mario': 'red'\n",
    "}\n",
    "print(ninjas)\n",
    "ninjas['luigi'] = 'orange'\n",
    "print(ninjas)"
   ]
  },
  {
   "cell_type": "markdown",
   "id": "64d2a8df",
   "metadata": {},
   "source": [
    "### Overwriting existing key-value pair\n",
    "\n",
    "- Again, do a simple assignment like this: `dict_var[existingKey] = newValue`\n"
   ]
  },
  {
   "cell_type": "code",
   "execution_count": 7,
   "id": "d15b96e9",
   "metadata": {},
   "outputs": [
    {
     "name": "stdout",
     "output_type": "stream",
     "text": [
      "{'shawn': 90, 'gus': 95, 'juliet': 100, 'lassitor': 96}\n",
      "{'shawn': 90, 'gus': 95, 'juliet': 100, 'lassitor': 97}\n"
     ]
    }
   ],
   "source": [
    "scores = {\n",
    "    'shawn': 90,\n",
    "    'gus': 95,\n",
    "    'juliet': 100,\n",
    "    'lassitor': 96\n",
    "}\n",
    "print(scores)\n",
    "scores['lassitor'] = 97\n",
    "print(scores)"
   ]
  },
  {
   "cell_type": "markdown",
   "id": "2039a10b",
   "metadata": {},
   "source": [
    "## Dictionary methods"
   ]
  },
  {
   "cell_type": "markdown",
   "id": "cce19ef9",
   "metadata": {},
   "source": [
    "### `keys()` method\n",
    "\n",
    "- Returns all key names. \n",
    "\n",
    "- More specifically, the return type is of type `dict_keys`.\n",
    "\n",
    "- This type is iterable, but cannot be indexed.\n",
    "\n",
    "- **Note**: Dictionaries store items in an unordered fashion and hence, there is no ordering in the keys returned.\n",
    "\n",
    "- Usage: `.keys()`"
   ]
  },
  {
   "cell_type": "code",
   "execution_count": 12,
   "id": "863dd707",
   "metadata": {},
   "outputs": [
    {
     "name": "stdout",
     "output_type": "stream",
     "text": [
      "dict_keys(['k1', 'k2', 'k3'])\n",
      "<class 'dict_keys'>\n",
      "k1 10\n",
      "k2 20\n",
      "k3 15\n"
     ]
    }
   ],
   "source": [
    "d = { 'k1': 10, 'k2': 20, 'k3': 15 }\n",
    "d_keys = d.keys()\n",
    "print(d_keys)\n",
    "print(type(d_keys))\n",
    "for key in d_keys:\n",
    "    print(key, d[key])"
   ]
  },
  {
   "cell_type": "markdown",
   "id": "08ca9603",
   "metadata": {},
   "source": [
    "### `values()` method\n",
    "\n",
    "- Returns all the values as the order of keys in the `.keys()` method.\n",
    "\n",
    "- The return type is `dict_values` which is iterable but cannot be indexed.\n",
    "\n",
    "- Usage: `.values()`\n"
   ]
  },
  {
   "cell_type": "code",
   "execution_count": 13,
   "id": "66a7382c",
   "metadata": {},
   "outputs": [
    {
     "name": "stdout",
     "output_type": "stream",
     "text": [
      "dict_values([10, 20, 15])\n",
      "<class 'dict_values'>\n",
      "10\n",
      "20\n",
      "15\n"
     ]
    }
   ],
   "source": [
    "d_values = d.values()\n",
    "print(d_values)\n",
    "print(type(d_values))\n",
    "for val in d_values:\n",
    "    print(val)"
   ]
  },
  {
   "cell_type": "markdown",
   "id": "b646835f",
   "metadata": {},
   "source": [
    "### `items()` method\n",
    "\n",
    "- Returns a list of tuples where each tuple has a key and the corresponding value.\n",
    "\n",
    "- Return type is `dict_items` which is iterable but cannot be indexed.\n",
    "\n",
    "- Usage: `.items()`"
   ]
  },
  {
   "cell_type": "code",
   "execution_count": 15,
   "id": "759732bd",
   "metadata": {},
   "outputs": [
    {
     "name": "stdout",
     "output_type": "stream",
     "text": [
      "dict_items([('k1', 10), ('k2', 20), ('k3', 15)])\n",
      "('k1', 10) <class 'tuple'>\n",
      "k1 10\n",
      "('k2', 20) <class 'tuple'>\n",
      "k2 20\n",
      "('k3', 15) <class 'tuple'>\n",
      "k3 15\n"
     ]
    }
   ],
   "source": [
    "d_items = d.items()\n",
    "print(d_items)\n",
    "for item in d_items:\n",
    "    print(item, type(item))\n",
    "    key = item[0]\n",
    "    val = item[1]\n",
    "    print(key, val)"
   ]
  },
  {
   "cell_type": "markdown",
   "id": "c5a77f2e",
   "metadata": {},
   "source": [
    "## Iterating a dictionary\n",
    "\n",
    "- If you try to iterate a dictionary by using direct `for` loop, you actually get the `keys`."
   ]
  },
  {
   "cell_type": "code",
   "execution_count": 1,
   "id": "2a678cf5",
   "metadata": {},
   "outputs": [],
   "source": [
    "roles = {\n",
    "    '400': 'SDE-1',\n",
    "    '401': 'SDE-2',\n",
    "    '402': 'SDE-3',\n",
    "    '501': 'Team Lead'\n",
    "}"
   ]
  },
  {
   "cell_type": "code",
   "execution_count": 2,
   "id": "48d0cffd",
   "metadata": {},
   "outputs": [
    {
     "name": "stdout",
     "output_type": "stream",
     "text": [
      "400 SDE-1\n",
      "401 SDE-2\n",
      "402 SDE-3\n",
      "501 Team Lead\n"
     ]
    }
   ],
   "source": [
    "for role in roles:\n",
    "    print(role, roles[role])"
   ]
  },
  {
   "cell_type": "markdown",
   "id": "a0520d43",
   "metadata": {},
   "source": [
    "- Alternatively, `.keys()` method returns an iterable of all the keys"
   ]
  },
  {
   "cell_type": "code",
   "execution_count": 3,
   "id": "4668ec2d",
   "metadata": {},
   "outputs": [
    {
     "name": "stdout",
     "output_type": "stream",
     "text": [
      "dict_keys(['400', '401', '402', '501'])\n",
      "<class 'dict_keys'>\n",
      "400 SDE-1\n",
      "401 SDE-2\n",
      "402 SDE-3\n",
      "501 Team Lead\n"
     ]
    }
   ],
   "source": [
    "print(roles.keys())\n",
    "print(type(roles.keys()))\n",
    "for role in roles.keys():\n",
    "    print(role, roles[role])"
   ]
  },
  {
   "cell_type": "markdown",
   "id": "acb1491f",
   "metadata": {},
   "source": [
    "- `.items()` returns a list of tuples where each tuples has the key and the corresponding value.\n",
    "\n",
    "- You can use tuple unpacking in this case."
   ]
  },
  {
   "cell_type": "code",
   "execution_count": 4,
   "id": "2389036f",
   "metadata": {},
   "outputs": [
    {
     "name": "stdout",
     "output_type": "stream",
     "text": [
      "dict_items([('400', 'SDE-1'), ('401', 'SDE-2'), ('402', 'SDE-3'), ('501', 'Team Lead')])\n",
      "<class 'dict_items'>\n"
     ]
    }
   ],
   "source": [
    "print(roles.items())\n",
    "print(type(roles.items()))"
   ]
  },
  {
   "cell_type": "code",
   "execution_count": 5,
   "id": "d09ca12a",
   "metadata": {},
   "outputs": [
    {
     "name": "stdout",
     "output_type": "stream",
     "text": [
      "('400', 'SDE-1') <class 'tuple'>\n",
      "400 SDE-1\n",
      "('401', 'SDE-2') <class 'tuple'>\n",
      "401 SDE-2\n",
      "('402', 'SDE-3') <class 'tuple'>\n",
      "402 SDE-3\n",
      "('501', 'Team Lead') <class 'tuple'>\n",
      "501 Team Lead\n"
     ]
    }
   ],
   "source": [
    "for item in roles.items():\n",
    "    print(item, type(item))\n",
    "    print(item[0], item[1])"
   ]
  },
  {
   "cell_type": "code",
   "execution_count": 6,
   "id": "77f32f03",
   "metadata": {},
   "outputs": [
    {
     "name": "stdout",
     "output_type": "stream",
     "text": [
      "400 SDE-1\n",
      "401 SDE-2\n",
      "402 SDE-3\n",
      "501 Team Lead\n"
     ]
    }
   ],
   "source": [
    "# using tuple unpacking\n",
    "for (code, role) in roles.items():\n",
    "    print(code, role)"
   ]
  }
 ],
 "metadata": {
  "kernelspec": {
   "display_name": "Python 3 (ipykernel)",
   "language": "python",
   "name": "python3"
  },
  "language_info": {
   "codemirror_mode": {
    "name": "ipython",
    "version": 3
   },
   "file_extension": ".py",
   "mimetype": "text/x-python",
   "name": "python",
   "nbconvert_exporter": "python",
   "pygments_lexer": "ipython3",
   "version": "3.9.12"
  }
 },
 "nbformat": 4,
 "nbformat_minor": 5
}
