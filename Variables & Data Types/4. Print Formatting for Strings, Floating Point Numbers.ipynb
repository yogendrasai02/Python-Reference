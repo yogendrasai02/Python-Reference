{
 "cells": [
  {
   "cell_type": "markdown",
   "id": "862a2a2a",
   "metadata": {},
   "source": [
    "# String Formatting\n",
    "\n",
    "- There are mainly 3 ways to format strings: \n",
    "    - Using the `printf` style formatting\n",
    "    - Using the `.format()` method\n",
    "    - Using the `f string` literal notation (**Works only for Python 3.6+**)\n",
    "    \n",
    "- Without these useful formatting tools, everytime we want to format a sentence, we would concatenate string like:<br> `'This is ' + name + ' who is ' + age + ' years old and works as ' + occupation`\n",
    "\n",
    "- While this does the job, it is inconvinient.\n",
    "\n",
    "- For the first 2 ways of string formatting, refer to [this article from realpython.com](https://realpython.com/python-string-formatting/).\n",
    "\n",
    "- We will look at **f string** notation here.\n",
    "\n",
    "## `f string` notation\n",
    "\n",
    "- It stands for **Formatted String Literal** notation.\n",
    "\n",
    "- It is used to **inject** variables into a string directly.\n",
    "\n",
    "- You prefix the string's starting quotes (`'` or `\"`) with the character `f`.\n",
    "\n",
    "- Then, you inject a variable into the string using the `{}` notation where the variable goes inside the braces.\n",
    "\n",
    "- For more details (apart from below examples), visit [Python Documentation for f strings](https://peps.python.org/pep-0498/).\n"
   ]
  },
  {
   "cell_type": "code",
   "execution_count": 1,
   "id": "39137bd3",
   "metadata": {},
   "outputs": [],
   "source": [
    "name = 'Mario'\n",
    "age = 250"
   ]
  },
  {
   "cell_type": "code",
   "execution_count": 4,
   "id": "f1d91af5",
   "metadata": {},
   "outputs": [
    {
     "name": "stdout",
     "output_type": "stream",
     "text": [
      "Hi, I am MARIO and I am 250 years old!\n"
     ]
    }
   ],
   "source": [
    "s = f\"Hi, I am {name.upper()} and I am {age} years old!\"\n",
    "print(s)"
   ]
  },
  {
   "cell_type": "code",
   "execution_count": 2,
   "id": "068eaabf",
   "metadata": {
    "scrolled": true
   },
   "outputs": [
    {
     "name": "stdout",
     "output_type": "stream",
     "text": [
      "Hi, I am Mario and I am 250 years old!\n"
     ]
    }
   ],
   "source": [
    "s = f'Hi, I am {name} and I am {age} years old!'\n",
    "print(s)"
   ]
  },
  {
   "cell_type": "markdown",
   "id": "c3e327d8",
   "metadata": {},
   "source": [
    "## Formatting floating point numbers\n",
    "\n",
    "- Refer [this](https://appdividend.com/2022/06/23/how-to-format-float-values-in-python/) and [this](https://www.geeksforgeeks.org/precision-handling-python/)."
   ]
  }
 ],
 "metadata": {
  "kernelspec": {
   "display_name": "Python 3 (ipykernel)",
   "language": "python",
   "name": "python3"
  },
  "language_info": {
   "codemirror_mode": {
    "name": "ipython",
    "version": 3
   },
   "file_extension": ".py",
   "mimetype": "text/x-python",
   "name": "python",
   "nbconvert_exporter": "python",
   "pygments_lexer": "ipython3",
   "version": "3.9.12"
  }
 },
 "nbformat": 4,
 "nbformat_minor": 5
}
