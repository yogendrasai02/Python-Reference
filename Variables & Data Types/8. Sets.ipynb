{
 "cells": [
  {
   "cell_type": "markdown",
   "id": "4d45d2db",
   "metadata": {},
   "source": [
    "# Sets\n",
    "\n",
    "- Sets are an unordered collection of **unique elements**.\n",
    "\n",
    "- Individual items cannot be accessed via indexing since the collection is unordered.\n",
    "\n",
    "- They are implemented using Hash Tables.\n",
    "\n",
    "- To create an empty set, we have to use the `set()` function.\n",
    "    - To create a set with some elements, we can use the `{}` notation. (Do not confuse the with `{}` notation of dictionaries)\n",
    "\n",
    "- The `.add(elem)` is used to insert an item into the set. It has an average case time complexity of $O(1)$ and a worst case time complexity of $O(N)$."
   ]
  },
  {
   "cell_type": "code",
   "execution_count": 1,
   "id": "bc267f03",
   "metadata": {},
   "outputs": [
    {
     "name": "stdout",
     "output_type": "stream",
     "text": [
      "set()\n",
      "<class 'set'>\n"
     ]
    }
   ],
   "source": [
    "friends = set()\n",
    "print(friends)\n",
    "print(type(friends))"
   ]
  },
  {
   "cell_type": "code",
   "execution_count": 2,
   "id": "6770a65a",
   "metadata": {},
   "outputs": [
    {
     "name": "stdout",
     "output_type": "stream",
     "text": [
      "{'sheldon', 'ken', 'mario'}\n",
      "<class 'set'>\n"
     ]
    }
   ],
   "source": [
    "# Another way to define a set\n",
    "friends = { 'sheldon', 'mario', 'ken' }\n",
    "print(friends)\n",
    "print(type(friends))"
   ]
  },
  {
   "cell_type": "code",
   "execution_count": 4,
   "id": "662b6f56",
   "metadata": {},
   "outputs": [
    {
     "name": "stdout",
     "output_type": "stream",
     "text": [
      "<class 'dict'>\n"
     ]
    }
   ],
   "source": [
    "# If you use {} to define an empty set, you end up creating a dictionary\n",
    "test = {}\n",
    "print(type(test))"
   ]
  },
  {
   "cell_type": "code",
   "execution_count": 7,
   "id": "d0368303",
   "metadata": {},
   "outputs": [
    {
     "name": "stdout",
     "output_type": "stream",
     "text": [
      "{'sheldon', 'howard', 'leonard', 'raj'}\n"
     ]
    }
   ],
   "source": [
    "# add elements to a set\n",
    "friends = set()\n",
    "friends.add('sheldon')\n",
    "friends.add('leonard')\n",
    "friends.add('raj')\n",
    "friends.add('howard')\n",
    "friends.add('raj') # doesnt effect the set\n",
    "print(friends) # Note the order of output -> unordered"
   ]
  },
  {
   "cell_type": "markdown",
   "id": "4f64877d",
   "metadata": {},
   "source": [
    "[This GFG article has some IMPORTANT + USEFUL info on sets](https://www.geeksforgeeks.org/sets-in-python/)\n",
    "\n",
    "> **NOTE:** **Write notes for this content later.**"
   ]
  },
  {
   "cell_type": "code",
   "execution_count": null,
   "id": "a98ba849",
   "metadata": {},
   "outputs": [],
   "source": []
  }
 ],
 "metadata": {
  "kernelspec": {
   "display_name": "Python 3 (ipykernel)",
   "language": "python",
   "name": "python3"
  },
  "language_info": {
   "codemirror_mode": {
    "name": "ipython",
    "version": 3
   },
   "file_extension": ".py",
   "mimetype": "text/x-python",
   "name": "python",
   "nbconvert_exporter": "python",
   "pygments_lexer": "ipython3",
   "version": "3.9.12"
  }
 },
 "nbformat": 4,
 "nbformat_minor": 5
}
