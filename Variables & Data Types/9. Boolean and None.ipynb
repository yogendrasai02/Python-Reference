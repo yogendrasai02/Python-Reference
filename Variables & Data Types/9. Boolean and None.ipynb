{
 "cells": [
  {
   "cell_type": "markdown",
   "id": "73cb0ad9",
   "metadata": {},
   "source": [
    "# Booleans\n",
    "- A Boolean type indicates a logical `True` or `False`.\n",
    "- In python, note that the value is case sensitive."
   ]
  },
  {
   "cell_type": "code",
   "execution_count": 1,
   "id": "5fe7a711",
   "metadata": {},
   "outputs": [
    {
     "name": "stdout",
     "output_type": "stream",
     "text": [
      "True\n",
      "<class 'bool'>\n"
     ]
    }
   ],
   "source": [
    "is_hungry = True\n",
    "print(is_hungry)\n",
    "print(type(is_hungry))"
   ]
  },
  {
   "cell_type": "code",
   "execution_count": 2,
   "id": "b45b9c2b",
   "metadata": {},
   "outputs": [
    {
     "name": "stdout",
     "output_type": "stream",
     "text": [
      "False\n",
      "<class 'bool'>\n"
     ]
    }
   ],
   "source": [
    "is_full = False\n",
    "print(is_full)\n",
    "print(type(is_full))"
   ]
  },
  {
   "cell_type": "markdown",
   "id": "0c132246",
   "metadata": {},
   "source": [
    "# None\n",
    "\n",
    "- `None` keyword denotes a void value which means, there nothing present, an empty value.\n",
    "\n",
    "- It is often used as a placeholder for variables.\n"
   ]
  },
  {
   "cell_type": "code",
   "execution_count": 3,
   "id": "c772e999",
   "metadata": {},
   "outputs": [
    {
     "name": "stdout",
     "output_type": "stream",
     "text": [
      "None\n",
      "<class 'NoneType'>\n"
     ]
    }
   ],
   "source": [
    "watched = None\n",
    "print(watched)\n",
    "print(type(watched))"
   ]
  },
  {
   "cell_type": "code",
   "execution_count": 4,
   "id": "fd18a741",
   "metadata": {},
   "outputs": [],
   "source": [
    "watched # doesn't return anything"
   ]
  }
 ],
 "metadata": {
  "kernelspec": {
   "display_name": "Python 3 (ipykernel)",
   "language": "python",
   "name": "python3"
  },
  "language_info": {
   "codemirror_mode": {
    "name": "ipython",
    "version": 3
   },
   "file_extension": ".py",
   "mimetype": "text/x-python",
   "name": "python",
   "nbconvert_exporter": "python",
   "pygments_lexer": "ipython3",
   "version": "3.9.12"
  }
 },
 "nbformat": 4,
 "nbformat_minor": 5
}
