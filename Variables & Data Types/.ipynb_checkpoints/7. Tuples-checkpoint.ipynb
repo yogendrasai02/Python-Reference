{
 "cells": [
  {
   "cell_type": "markdown",
   "id": "84d34fc9",
   "metadata": {},
   "source": [
    "# Tuples\n",
    "\n",
    "- Tuples are like lists, but are immutable i.e, once an item is inside a tuple, it cannot be changed.\n",
    "\n",
    "- Tuples are denoted by using `()` and the items are separated by `,`.\n",
    "\n",
    "- Indexing & Slicing work the same as in a list.\n",
    "\n",
    "- Tuples have fewer methods to work with.\n",
    "\n",
    "- They can be used whenever **Data Integrity** is to be maintained.\n",
    "    - For example, whenever data is being passed into a function for some computation.\n"
   ]
  },
  {
   "cell_type": "code",
   "execution_count": 1,
   "id": "6d8c4256",
   "metadata": {},
   "outputs": [
    {
     "name": "stdout",
     "output_type": "stream",
     "text": [
      "(3, 2, 4, 1, 2)\n",
      "<class 'tuple'>\n"
     ]
    }
   ],
   "source": [
    "# define a tuple\n",
    "credits = (3, 2, 4, 1, 2)\n",
    "print(credits)\n",
    "print(type(credits))"
   ]
  },
  {
   "cell_type": "code",
   "execution_count": 2,
   "id": "26885ebb",
   "metadata": {},
   "outputs": [
    {
     "ename": "TypeError",
     "evalue": "'tuple' object does not support item assignment",
     "output_type": "error",
     "traceback": [
      "\u001b[1;31m---------------------------------------------------------------------------\u001b[0m",
      "\u001b[1;31mTypeError\u001b[0m                                 Traceback (most recent call last)",
      "Input \u001b[1;32mIn [2]\u001b[0m, in \u001b[0;36m<cell line: 2>\u001b[1;34m()\u001b[0m\n\u001b[0;32m      1\u001b[0m \u001b[38;5;66;03m# Tuples are immutable\u001b[39;00m\n\u001b[1;32m----> 2\u001b[0m credits[\u001b[38;5;241m0\u001b[39m] \u001b[38;5;241m=\u001b[39m \u001b[38;5;241m100\u001b[39m\n",
      "\u001b[1;31mTypeError\u001b[0m: 'tuple' object does not support item assignment"
     ]
    }
   ],
   "source": [
    "# Tuples are immutable.\n",
    "credits[0] = 100"
   ]
  },
  {
   "cell_type": "code",
   "execution_count": 3,
   "id": "f6deb32a",
   "metadata": {},
   "outputs": [
    {
     "name": "stdout",
     "output_type": "stream",
     "text": [
      "5\n"
     ]
    }
   ],
   "source": [
    "# length of the tuple\n",
    "print(len(credits))"
   ]
  },
  {
   "cell_type": "code",
   "execution_count": 6,
   "id": "5349b566",
   "metadata": {},
   "outputs": [
    {
     "data": {
      "text/plain": [
       "4"
      ]
     },
     "execution_count": 6,
     "metadata": {},
     "output_type": "execute_result"
    }
   ],
   "source": [
    "# Indexing\n",
    "credits[2]"
   ]
  },
  {
   "cell_type": "code",
   "execution_count": 5,
   "id": "6099a74a",
   "metadata": {},
   "outputs": [
    {
     "data": {
      "text/plain": [
       "2"
      ]
     },
     "execution_count": 5,
     "metadata": {},
     "output_type": "execute_result"
    }
   ],
   "source": [
    "credits[-1]"
   ]
  },
  {
   "cell_type": "code",
   "execution_count": 7,
   "id": "5fd1d784",
   "metadata": {},
   "outputs": [
    {
     "data": {
      "text/plain": [
       "(4, 1)"
      ]
     },
     "execution_count": 7,
     "metadata": {},
     "output_type": "execute_result"
    }
   ],
   "source": [
    "# Slicing\n",
    "credits[2:4]"
   ]
  },
  {
   "cell_type": "code",
   "execution_count": 9,
   "id": "cbcd3e24",
   "metadata": {},
   "outputs": [
    {
     "data": {
      "text/plain": [
       "(2, 1, 4, 2, 3)"
      ]
     },
     "execution_count": 9,
     "metadata": {},
     "output_type": "execute_result"
    }
   ],
   "source": [
    "# reversing using slicing, doesnt modify original tuple\n",
    "credits[::-1]"
   ]
  },
  {
   "cell_type": "markdown",
   "id": "42ea511b",
   "metadata": {},
   "source": [
    "## Tuple Unpacking\n",
    "\n",
    "- Consider a list where each item is a tuple.\n",
    "\n",
    "- You might iterate over that list as follows:\n",
    "\n",
    "```python\n",
    "for item in list_var:\n",
    "    print(item, type(item)) # item is of type tuple\n",
    "    print(item[0], item[1], ...)\n",
    "```\n",
    "\n",
    "- You can use **Tuple Unpacking Syntax** to iterate over that list and have the local variables for item at index `0`, index `1` of each tuple as follows:\n",
    "\n",
    "```python\n",
    "l = [(10, 20), (30, 40), (50, 60)]\n",
    "\n",
    "for x, y in l:\n",
    "    print(x, y)\n",
    "    \n",
    "# another way is to use ()\n",
    "for (x, y) in l:\n",
    "    print(x, y)\n",
    "\n",
    "```\n"
   ]
  },
  {
   "cell_type": "code",
   "execution_count": 2,
   "id": "38715659",
   "metadata": {},
   "outputs": [
    {
     "name": "stdout",
     "output_type": "stream",
     "text": [
      "(1, 1) <class 'tuple'> 1 1\n",
      "(4, 3) <class 'tuple'> 4 3\n",
      "(2, 5) <class 'tuple'> 2 5\n",
      "(3, 1) <class 'tuple'> 3 1\n"
     ]
    }
   ],
   "source": [
    "points = [(1, 1), (4, 3), (2, 5), (3, 1)]\n",
    "\n",
    "for point in points:\n",
    "    print(point, type(point), point[0], point[1])"
   ]
  },
  {
   "cell_type": "code",
   "execution_count": 6,
   "id": "0c3e4b02",
   "metadata": {},
   "outputs": [
    {
     "name": "stdout",
     "output_type": "stream",
     "text": [
      "1 1\n",
      "4 3\n",
      "2 5\n",
      "3 1\n",
      "----\n",
      "1 1\n",
      "4 3\n",
      "2 5\n",
      "3 1\n"
     ]
    }
   ],
   "source": [
    "# Now use tuple unpacking\n",
    "\n",
    "for x, y in points:\n",
    "    print(x, y)\n",
    "    \n",
    "print('----')\n",
    "    \n",
    "# another way\n",
    "for (x, y) in points:\n",
    "    print(x, y)"
   ]
  },
  {
   "cell_type": "code",
   "execution_count": 7,
   "id": "03aca19b",
   "metadata": {},
   "outputs": [
    {
     "name": "stdout",
     "output_type": "stream",
     "text": [
      "1 1 1\n",
      "0 0 0\n",
      "0 1 0\n",
      "----\n",
      "1 1 1\n",
      "0 0 0\n",
      "0 1 0\n"
     ]
    }
   ],
   "source": [
    "# Another example\n",
    "\n",
    "points_3d = [(1, 1, 1), (0, 0, 0), (0, 1, 0)]\n",
    "\n",
    "for x, y, z in points_3d:\n",
    "    print(x, y, z)\n",
    "    \n",
    "print('----')\n",
    "    \n",
    "# another way\n",
    "for (x, y, z) in points_3d:\n",
    "    print(x, y, z)"
   ]
  },
  {
   "cell_type": "markdown",
   "id": "843b01d3",
   "metadata": {},
   "source": [
    "## Tuple methods\n",
    "\n",
    "- Tuples have only **2** methods to work with: `count()` and `index()`.\n",
    "\n",
    "- `.count(val)` returns the number of occurances of `val` inside the tuple.\n",
    "\n",
    "- `.index(val)` returns the first index of `val` inside the tuple. If `val` is not present in the tuple, it throws a `ValueError`.\n"
   ]
  },
  {
   "cell_type": "code",
   "execution_count": 10,
   "id": "87cf25ec",
   "metadata": {},
   "outputs": [
    {
     "data": {
      "text/plain": [
       "2"
      ]
     },
     "execution_count": 10,
     "metadata": {},
     "output_type": "execute_result"
    }
   ],
   "source": [
    "credits.count(2)"
   ]
  },
  {
   "cell_type": "code",
   "execution_count": 17,
   "id": "5ae7d437",
   "metadata": {},
   "outputs": [
    {
     "data": {
      "text/plain": [
       "0"
      ]
     },
     "execution_count": 17,
     "metadata": {},
     "output_type": "execute_result"
    }
   ],
   "source": [
    "credits.index(3)"
   ]
  },
  {
   "cell_type": "code",
   "execution_count": 15,
   "id": "b33cad8a",
   "metadata": {},
   "outputs": [
    {
     "data": {
      "text/plain": [
       "0"
      ]
     },
     "execution_count": 15,
     "metadata": {},
     "output_type": "execute_result"
    }
   ],
   "source": [
    "credits.count(200)"
   ]
  },
  {
   "cell_type": "code",
   "execution_count": 16,
   "id": "aeae9e38",
   "metadata": {},
   "outputs": [
    {
     "ename": "ValueError",
     "evalue": "tuple.index(x): x not in tuple",
     "output_type": "error",
     "traceback": [
      "\u001b[1;31m---------------------------------------------------------------------------\u001b[0m",
      "\u001b[1;31mValueError\u001b[0m                                Traceback (most recent call last)",
      "Input \u001b[1;32mIn [16]\u001b[0m, in \u001b[0;36m<cell line: 1>\u001b[1;34m()\u001b[0m\n\u001b[1;32m----> 1\u001b[0m \u001b[43mcredits\u001b[49m\u001b[38;5;241;43m.\u001b[39;49m\u001b[43mindex\u001b[49m\u001b[43m(\u001b[49m\u001b[38;5;241;43m200\u001b[39;49m\u001b[43m)\u001b[49m\n",
      "\u001b[1;31mValueError\u001b[0m: tuple.index(x): x not in tuple"
     ]
    }
   ],
   "source": [
    "credits.index(200)"
   ]
  }
 ],
 "metadata": {
  "kernelspec": {
   "display_name": "Python 3 (ipykernel)",
   "language": "python",
   "name": "python3"
  },
  "language_info": {
   "codemirror_mode": {
    "name": "ipython",
    "version": 3
   },
   "file_extension": ".py",
   "mimetype": "text/x-python",
   "name": "python",
   "nbconvert_exporter": "python",
   "pygments_lexer": "ipython3",
   "version": "3.9.12"
  }
 },
 "nbformat": 4,
 "nbformat_minor": 5
}
