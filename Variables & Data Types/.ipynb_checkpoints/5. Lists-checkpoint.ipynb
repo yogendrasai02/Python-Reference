{
 "cells": [
  {
   "cell_type": "markdown",
   "id": "c13951a2",
   "metadata": {},
   "source": [
    "# Lists\n",
    "\n",
    "- A List is an ordered sequence of items of heterogenous datatypes.\n",
    "\n",
    "- The items are written inside `[]`, and each item is separated by `,`.\n",
    "\n",
    "- Lists are like **dynamic arrays**, their size is not fixed and new items can be added or removed from a list.\n",
    "\n",
    "- They can hold items of different, mixed (compound) datatypes, but usually, they hold the items of the same datatype.\n",
    "\n",
    "- Lists are **mutable**.\n"
   ]
  },
  {
   "cell_type": "code",
   "execution_count": 1,
   "id": "76dce7b2",
   "metadata": {},
   "outputs": [
    {
     "name": "stdout",
     "output_type": "stream",
     "text": [
      "[90, 65, 75, 40, 95, 100]\n",
      "6\n",
      "<class 'list'>\n"
     ]
    }
   ],
   "source": [
    "# define a list\n",
    "scores = [90, 65, 75, 40, 95, 100]\n",
    "print(scores)\n",
    "print(len(scores)) # len() function returns the size of the list -> number of elements\n",
    "print(type(scores))"
   ]
  },
  {
   "cell_type": "code",
   "execution_count": 2,
   "id": "ab1330f4",
   "metadata": {},
   "outputs": [
    {
     "name": "stdout",
     "output_type": "stream",
     "text": [
      "['mario', 'luigi', 'ken', 'ryu', 'chun-li', 'toad']\n"
     ]
    }
   ],
   "source": [
    "# list holding strings\n",
    "friends = ['mario', 'luigi', 'ken', 'ryu', 'chun-li', 'toad']\n",
    "print(friends)"
   ]
  },
  {
   "cell_type": "code",
   "execution_count": 3,
   "id": "401b270e",
   "metadata": {},
   "outputs": [
    {
     "name": "stdout",
     "output_type": "stream",
     "text": [
      "[100.1234, 200, 'sheldon', ['foo', 'bar'], ('fizz', 'buzz')]\n"
     ]
    }
   ],
   "source": [
    "# lists can hold items of different types\n",
    "my_list = [100.1234, 200, 'sheldon', ['foo', 'bar'], ('fizz', 'buzz')]\n",
    "print(my_list)"
   ]
  },
  {
   "cell_type": "markdown",
   "id": "408cf5f3",
   "metadata": {},
   "source": [
    "## Indexing and slicing\n",
    "\n",
    "- Lists support indexing and slicing.\n",
    "\n",
    "- Lists follow **0 based indexing**.\n",
    "\n",
    "- Syntax for indexing: `listVariable[index]` where $0\\le index \\lt len(listVariable)$ which returns the items at index `index`.\n",
    "\n",
    "- Syntax for slicing: `listVariable[start:stop:step]`. This returns the subsection of the list from index `start` upto but not including index `stop` with a step size of `step`.\n",
    "\n",
    "- Time complexity of indexing: $O(1)$\n",
    "\n",
    "- Time complexity of slicing: $O(N)$\n",
    "\n",
    "- If any of the indices specified are out of range or are invalid, Python throws an error.\n",
    "\n",
    "- Lists also support **Reverse Indexing**.\n"
   ]
  },
  {
   "cell_type": "code",
   "execution_count": 4,
   "id": "72ade7d1",
   "metadata": {},
   "outputs": [],
   "source": [
    "nums = [10, 20, 5, 25, 30, 15]"
   ]
  },
  {
   "cell_type": "code",
   "execution_count": 5,
   "id": "822080dc",
   "metadata": {},
   "outputs": [
    {
     "name": "stdout",
     "output_type": "stream",
     "text": [
      "At index 0: 10\n",
      "At index 2: 5\n",
      "Last element: 15\n"
     ]
    }
   ],
   "source": [
    "# Indexing\n",
    "print(f'At index 0: {nums[0]}')\n",
    "print(f'At index 2: {nums[2]}')\n",
    "print(f'Last element: {nums[-1]}')"
   ]
  },
  {
   "cell_type": "code",
   "execution_count": 6,
   "id": "3c43b60d",
   "metadata": {},
   "outputs": [
    {
     "ename": "IndexError",
     "evalue": "list index out of range",
     "output_type": "error",
     "traceback": [
      "\u001b[1;31m---------------------------------------------------------------------------\u001b[0m",
      "\u001b[1;31mIndexError\u001b[0m                                Traceback (most recent call last)",
      "Input \u001b[1;32mIn [6]\u001b[0m, in \u001b[0;36m<cell line: 2>\u001b[1;34m()\u001b[0m\n\u001b[0;32m      1\u001b[0m \u001b[38;5;66;03m# Specifying an invalid index\u001b[39;00m\n\u001b[1;32m----> 2\u001b[0m \u001b[43mnums\u001b[49m\u001b[43m[\u001b[49m\u001b[38;5;241;43m123\u001b[39;49m\u001b[43m]\u001b[49m\n",
      "\u001b[1;31mIndexError\u001b[0m: list index out of range"
     ]
    }
   ],
   "source": [
    "# Specifying an index out of range -> we get an 'IndexError'\n",
    "nums[123]"
   ]
  },
  {
   "cell_type": "code",
   "execution_count": 8,
   "id": "c106981c",
   "metadata": {},
   "outputs": [
    {
     "ename": "TypeError",
     "evalue": "list indices must be integers or slices, not float",
     "output_type": "error",
     "traceback": [
      "\u001b[1;31m---------------------------------------------------------------------------\u001b[0m",
      "\u001b[1;31mTypeError\u001b[0m                                 Traceback (most recent call last)",
      "Input \u001b[1;32mIn [8]\u001b[0m, in \u001b[0;36m<cell line: 2>\u001b[1;34m()\u001b[0m\n\u001b[0;32m      1\u001b[0m \u001b[38;5;66;03m# Specifying an invalid index -> we get a 'TypeError'\u001b[39;00m\n\u001b[1;32m----> 2\u001b[0m \u001b[43mnums\u001b[49m\u001b[43m[\u001b[49m\u001b[38;5;241;43m1.23\u001b[39;49m\u001b[43m]\u001b[49m\n",
      "\u001b[1;31mTypeError\u001b[0m: list indices must be integers or slices, not float"
     ]
    }
   ],
   "source": [
    "# Specifying an invalid index -> we get a 'TypeError'\n",
    "nums[1.23]"
   ]
  },
  {
   "cell_type": "code",
   "execution_count": 9,
   "id": "63f9dac3",
   "metadata": {},
   "outputs": [
    {
     "ename": "TypeError",
     "evalue": "list indices must be integers or slices, not str",
     "output_type": "error",
     "traceback": [
      "\u001b[1;31m---------------------------------------------------------------------------\u001b[0m",
      "\u001b[1;31mTypeError\u001b[0m                                 Traceback (most recent call last)",
      "Input \u001b[1;32mIn [9]\u001b[0m, in \u001b[0;36m<cell line: 1>\u001b[1;34m()\u001b[0m\n\u001b[1;32m----> 1\u001b[0m \u001b[43mnums\u001b[49m\u001b[43m[\u001b[49m\u001b[38;5;124;43m'\u001b[39;49m\u001b[38;5;124;43mHello\u001b[39;49m\u001b[38;5;124;43m'\u001b[39;49m\u001b[43m]\u001b[49m\n",
      "\u001b[1;31mTypeError\u001b[0m: list indices must be integers or slices, not str"
     ]
    }
   ],
   "source": [
    "# Another example for invalid index (gives a 'TypeError')\n",
    "nums['Hello']"
   ]
  },
  {
   "cell_type": "code",
   "execution_count": 12,
   "id": "d14b978f",
   "metadata": {},
   "outputs": [
    {
     "name": "stdout",
     "output_type": "stream",
     "text": [
      "Original List: [10, 20, 5, 25, 30, 15]\n",
      "From index 0 upto index 4(inclusive): [10, 20, 5, 25, 30]\n",
      "From index 4 upto end of list: [30, 15]\n",
      "From index 2 upto index 5(inclusive): [5, 25, 30, 15]\n",
      "From index 1 upto index 5(inclusive) with step 2: [20, 25, 15]\n",
      "Reverse the list: [15, 30, 25, 5, 20, 10]\n"
     ]
    }
   ],
   "source": [
    "# Slicing\n",
    "print(f'Original List: {nums[::]}')\n",
    "print(f'From index 0 upto index 4(inclusive): {nums[:5]}')\n",
    "print(f'From index 4 upto end of list: {nums[4:]}')\n",
    "print(f'From index 2 upto index 5(inclusive): {nums[2:6]}')\n",
    "print(f'From index 1 upto index 5(inclusive) with step 2: {nums[1:6:2]}')\n",
    "print(f'Reverse the list: {nums[::-1]}')"
   ]
  },
  {
   "cell_type": "code",
   "execution_count": 13,
   "id": "8f5da278",
   "metadata": {},
   "outputs": [
    {
     "name": "stdout",
     "output_type": "stream",
     "text": [
      "[10, 20, 30, 40]\n",
      "[10, 100, 30, 40]\n"
     ]
    }
   ],
   "source": [
    "# Lists are mutable\n",
    "nums = [10, 20, 30, 40]\n",
    "print(nums)\n",
    "nums[1] = 100\n",
    "print(nums)"
   ]
  },
  {
   "cell_type": "markdown",
   "id": "fa308351",
   "metadata": {},
   "source": [
    "## List concatenation & multiplication\n",
    "\n",
    "- `+` operator to concatenate 2 lists.\n",
    "\n",
    "- `*` operator to concatenate a list `N` times.\n",
    "\n",
    "- These operations are not in-place.\n",
    "\n",
    "- Time complexity to concatenate 2 lists: $O(N_1 + N_2)$ where $N_1$ is the length of list_1 and $N_2$ is the length of list_2.\n",
    "\n",
    "- But note that, if you use `+=` instead of `+` to reassign the concatenation to the same variable, it is not $O(N)$, rather $O(1)$. We will see about this when we move to List Methods. Refer this: [stack overflow answer](https://stackoverflow.com/questions/33191470/difference-in-complexity-of-append-and-concatenate-for-this-list-code/33191492#33191492).\n"
   ]
  },
  {
   "cell_type": "code",
   "execution_count": 15,
   "id": "417a69b4",
   "metadata": {},
   "outputs": [
    {
     "name": "stdout",
     "output_type": "stream",
     "text": [
      "[10, 20, 30, 40, 50, 60, 1, 2, 3]\n",
      "Original nums: [10, 20, 30]\n",
      "Original nums_small: [1, 2, 3]\n"
     ]
    }
   ],
   "source": [
    "# List concatenation\n",
    "nums = [10, 20, 30]\n",
    "nums_small = [1, 2, 3]\n",
    "nums_big = nums + [40, 50, 60] + nums_small\n",
    "print(nums_big)\n",
    "print(f'Original nums: {nums}') # Not modified\n",
    "print(f'Original nums_small: {nums_small}') # Not modified"
   ]
  },
  {
   "cell_type": "code",
   "execution_count": 17,
   "id": "38ecdc40",
   "metadata": {},
   "outputs": [
    {
     "name": "stdout",
     "output_type": "stream",
     "text": [
      "[10, 20, 30, 10, 20, 30, 10, 20, 30, 10, 20, 30, 10, 20, 30]\n",
      "Original nums: [10, 20, 30]\n"
     ]
    }
   ],
   "source": [
    "# List multiplication\n",
    "nums = [10, 20, 30]\n",
    "nums_big = nums * 5\n",
    "print(nums_big)\n",
    "print(f'Original nums: {nums}') # Not modified"
   ]
  },
  {
   "cell_type": "markdown",
   "id": "98ae1289",
   "metadata": {},
   "source": [
    "## Iterating through a list\n",
    "\n",
    "- Use the `for` loop or the `while` loop.\n"
   ]
  },
  {
   "cell_type": "code",
   "execution_count": 1,
   "id": "2a0669e2",
   "metadata": {},
   "outputs": [
    {
     "name": "stdout",
     "output_type": "stream",
     "text": [
      "10\n",
      "20\n",
      "30\n",
      "[10, 20, 30]\n"
     ]
    }
   ],
   "source": [
    "nums = [10, 20, 30]\n",
    "\n",
    "for num in nums:\n",
    "    print(num)\n",
    "    num = 100 # doesnt modify the original list\n",
    "    \n",
    "print(nums)"
   ]
  },
  {
   "cell_type": "code",
   "execution_count": 2,
   "id": "da74c1df",
   "metadata": {},
   "outputs": [
    {
     "name": "stdout",
     "output_type": "stream",
     "text": [
      "0 10\n",
      "1 20\n",
      "2 30\n",
      "[110, 120, 130]\n"
     ]
    }
   ],
   "source": [
    "n = len(nums)\n",
    "\n",
    "for i in range(n):\n",
    "    print(i, nums[i])\n",
    "    nums[i] += 100 # this modifies the list\n",
    "\n",
    "print(nums)"
   ]
  },
  {
   "cell_type": "markdown",
   "id": "93a150af",
   "metadata": {},
   "source": [
    "> ### For tuple unpacking, visit the tuple notebook."
   ]
  },
  {
   "cell_type": "markdown",
   "id": "496324c0",
   "metadata": {},
   "source": [
    "## List Methods"
   ]
  },
  {
   "cell_type": "markdown",
   "id": "e31a7ec7",
   "metadata": {},
   "source": [
    "- Lists support a variety of useful methods, some of which are:\n",
    "    - `append()`\n",
    "    - `extend()`\n",
    "    - `pop()`\n",
    "    - `sort()`\n",
    "    - `reverse()`\n"
   ]
  },
  {
   "cell_type": "markdown",
   "id": "e6df8f11",
   "metadata": {},
   "source": [
    "### `append()` method\n",
    "\n",
    "- It adds a **single** item to the end of the existing list.\n",
    "\n",
    "- Syntax: `list_var.append(<new item data>)`\n",
    "\n",
    "- *Does not return anything*\n",
    "\n",
    "- Time complexity: $O(1)$"
   ]
  },
  {
   "cell_type": "code",
   "execution_count": 3,
   "id": "8eb31dd5",
   "metadata": {},
   "outputs": [],
   "source": [
    "nums = [10, 50, 20, 40, 30, 70, 60]"
   ]
  },
  {
   "cell_type": "code",
   "execution_count": 4,
   "id": "2a5fec41",
   "metadata": {},
   "outputs": [
    {
     "name": "stdout",
     "output_type": "stream",
     "text": [
      "Initial list: [10, 50, 20, 40, 30, 70, 60]\n",
      "After appending 80: [10, 50, 20, 40, 30, 70, 60, 80]\n"
     ]
    }
   ],
   "source": [
    "print(f'Initial list: {nums}')\n",
    "nums.append(80)\n",
    "print(f'After appending 80: {nums}')"
   ]
  },
  {
   "cell_type": "code",
   "execution_count": 7,
   "id": "735ca559",
   "metadata": {},
   "outputs": [
    {
     "name": "stdout",
     "output_type": "stream",
     "text": [
      "[10, 50, 20, 40, 30, 70, 60, 80, [100, 90]]\n"
     ]
    }
   ],
   "source": [
    "# append() adds only ONE element\n",
    "var = [100, 90]\n",
    "nums.append(var) # var becomes a new element of nums\n",
    "print(nums)"
   ]
  },
  {
   "cell_type": "markdown",
   "id": "ca02e93a",
   "metadata": {},
   "source": [
    "### `pop()` method\n",
    "\n",
    "- It removes a **single** item from the list.\n",
    "\n",
    "- By default, it removes the last item from list (The one at index -1).\n",
    "\n",
    "- It accepts an **optional argument**, the index of the element to remove.\n",
    "\n",
    "- Syntax: `popped_element = list_var.pop(index_to_remove)`\n",
    "\n",
    "- The argument `index_to_remove` is optional. If not specified, `index_to_remove` is considered as `-1`.\n",
    "\n",
    "- It returns the popped element.\n",
    "\n",
    "- If the index to be popped is `-1`, the Time Complexity is $O(1)$ else, in the worst case, it is $O(N)$.\n"
   ]
  },
  {
   "cell_type": "code",
   "execution_count": 8,
   "id": "9836847f",
   "metadata": {},
   "outputs": [
    {
     "name": "stdout",
     "output_type": "stream",
     "text": [
      "Initial: [10, 50, 20, 40, 30, 70, 60, 80, [100, 90]]\n",
      "Popped Item: [100, 90]\n",
      "After popping: [10, 50, 20, 40, 30, 70, 60, 80]\n"
     ]
    }
   ],
   "source": [
    "print(f'Initial: {nums}')\n",
    "popped_item = nums.pop() # removes & returns the item at index -1.\n",
    "print(f'Popped Item: {popped_item}')\n",
    "print(f'After popping: {nums}')"
   ]
  },
  {
   "cell_type": "code",
   "execution_count": 9,
   "id": "f0b90f84",
   "metadata": {},
   "outputs": [
    {
     "name": "stdout",
     "output_type": "stream",
     "text": [
      "30\n",
      "[10, 50, 20, 40, 70, 60, 80]\n"
     ]
    }
   ],
   "source": [
    "print(nums[4])\n",
    "popped_item = nums.pop(4)\n",
    "print(nums)"
   ]
  },
  {
   "cell_type": "markdown",
   "id": "d0600e47",
   "metadata": {},
   "source": [
    "### `sort()` method\n",
    "\n",
    "- It sorts a list based on a comparision.\n",
    "    - For a list of numbers, they are sorted in *ascending order*.\n",
    "    - For a list of strings, they are sorted in *lexicographical order*.\n",
    "    - For a list of any other datatype / data structure, they are sorted in the order as specified. (We must **specify the sorting criterion**).\n",
    "    \n",
    "- It does **inplace** sorting and does not return anything.\n",
    "\n",
    "- It uses **Tim Sort** algorithm to perform the sorting with a Time Complexity of $O(NlogN)$.\n",
    "\n",
    "- Syntax: `sort(*,key=None,reverse=False)`. Note that it accepts two optional keyword arguments: `key` and `reverse`.\n",
    "\n",
    "- If `reverse` argument is set to true, the results are sorted in the opposite order of the conventional sorting.\n",
    "\n",
    "- We will see more about the inbuilt `sort()` method later on.\n",
    "\n",
    "- [Sorting: How To | Python Docs](https://docs.python.org/3/howto/sorting.html)\n",
    "\n",
    "- [list sort() method | Python Docs](https://docs.python.org/3/library/stdtypes.html#list.sort)\n"
   ]
  },
  {
   "cell_type": "code",
   "execution_count": 11,
   "id": "b3ac3b61",
   "metadata": {},
   "outputs": [
    {
     "name": "stdout",
     "output_type": "stream",
     "text": [
      "[10, 50, 20, 40, 70, 60, 80]\n",
      "[10, 20, 40, 50, 60, 70, 80]\n"
     ]
    }
   ],
   "source": [
    "print(nums)\n",
    "nums.sort() # does inplace sorting, returns 'None'\n",
    "print(nums)"
   ]
  },
  {
   "cell_type": "code",
   "execution_count": 12,
   "id": "3edfc27b",
   "metadata": {},
   "outputs": [
    {
     "name": "stdout",
     "output_type": "stream",
     "text": [
      "[9, 8, 7, 6, 4, 3, 2, 1, 0]\n"
     ]
    }
   ],
   "source": [
    "nums = [9, 1, 3, 4, 2, 6, 8, 7, 0]\n",
    "nums.sort(reverse=True) # sort in descending order\n",
    "print(nums)"
   ]
  },
  {
   "cell_type": "code",
   "execution_count": 13,
   "id": "98c834e7",
   "metadata": {},
   "outputs": [
    {
     "name": "stdout",
     "output_type": "stream",
     "text": [
      "['sheldon', 'leonard', 'raj', 'howard', 'penny', 'bernadette']\n",
      "['bernadette', 'howard', 'leonard', 'penny', 'raj', 'sheldon']\n"
     ]
    }
   ],
   "source": [
    "# sorting a list of strings\n",
    "names = ['sheldon', 'leonard', 'raj', 'howard', 'penny', 'bernadette']\n",
    "print(names)\n",
    "names.sort() # sorts in lexicographical order\n",
    "print(names)"
   ]
  },
  {
   "cell_type": "markdown",
   "id": "09392970",
   "metadata": {},
   "source": [
    "### `reverse()` method\n",
    "\n",
    "- Reverses a list.\n",
    "\n",
    "- Does the reversal **in-place**.\n",
    "\n",
    "- Time Complexity: $O(N)$.\n"
   ]
  },
  {
   "cell_type": "code",
   "execution_count": 14,
   "id": "a088e2a9",
   "metadata": {},
   "outputs": [
    {
     "name": "stdout",
     "output_type": "stream",
     "text": [
      "[1, 2, 3, 4, 5, 6]\n",
      "[6, 5, 4, 3, 2, 1]\n"
     ]
    }
   ],
   "source": [
    "nums = [1, 2, 3, 4, 5, 6]\n",
    "print(nums)\n",
    "nums.reverse() # does it inplace\n",
    "print(nums)"
   ]
  }
 ],
 "metadata": {
  "kernelspec": {
   "display_name": "Python 3 (ipykernel)",
   "language": "python",
   "name": "python3"
  },
  "language_info": {
   "codemirror_mode": {
    "name": "ipython",
    "version": 3
   },
   "file_extension": ".py",
   "mimetype": "text/x-python",
   "name": "python",
   "nbconvert_exporter": "python",
   "pygments_lexer": "ipython3",
   "version": "3.9.12"
  }
 },
 "nbformat": 4,
 "nbformat_minor": 5
}
